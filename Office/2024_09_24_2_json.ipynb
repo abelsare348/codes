{
  "nbformat": 4,
  "nbformat_minor": 0,
  "metadata": {
    "colab": {
      "provenance": [],
      "authorship_tag": "ABX9TyNPj1NKh3UOqBZJQw60EU3J",
      "include_colab_link": true
    },
    "kernelspec": {
      "name": "python3",
      "display_name": "Python 3"
    },
    "language_info": {
      "name": "python"
    }
  },
  "cells": [
    {
      "cell_type": "markdown",
      "metadata": {
        "id": "view-in-github",
        "colab_type": "text"
      },
      "source": [
        "<a href=\"https://colab.research.google.com/github/abelsare348/codes/blob/pyspark/Office/2024_09_24_2_json.ipynb\" target=\"_parent\"><img src=\"https://colab.research.google.com/assets/colab-badge.svg\" alt=\"Open In Colab\"/></a>"
      ]
    },
    {
      "cell_type": "code",
      "source": [
        "pip install pyspark"
      ],
      "metadata": {
        "id": "jiMCnynHNxcv"
      },
      "execution_count": null,
      "outputs": []
    },
    {
      "cell_type": "code",
      "source": [
        "from pyspark import SparkContext\n",
        "from pyspark.sql import SparkSession\n",
        "\n",
        "spark=SparkSession.builder.appName('spark_json').getOrCreate()"
      ],
      "metadata": {
        "id": "zNEe9q5vN0ju"
      },
      "execution_count": null,
      "outputs": []
    },
    {
      "cell_type": "code",
      "execution_count": null,
      "metadata": {
        "id": "W_L4UekYNKrw"
      },
      "outputs": [],
      "source": [
        "anpr_df=spark.read.format(\"json\") \\\n",
        "          .option(\"multiLine\", True) \\\n",
        "          .option(\"header\",True) \\\n",
        "          .option(\"inferschema\",True) \\\n",
        "          .load(\"/content/20240825T0000_Axis_ANPR.json\")"
      ]
    },
    {
      "cell_type": "markdown",
      "source": [
        "Code to process all files from a folder of Axis_ANPR"
      ],
      "metadata": {
        "id": "s3PAkH922ryx"
      }
    },
    {
      "cell_type": "code",
      "source": [
        "# # Directory path\n",
        "# import os\n",
        "\n",
        "# directory_path = \"/home/aniket/Downloads/JsonRawdataFiles/20240825/\"\n",
        "\n",
        "# # List all files in the directory\n",
        "# files = [os.path.join(directory_path, file) for file in os.listdir(directory_path) if os.path.isfile(os.path.join(directory_path, file))]\n",
        "\n",
        "# # Empty DataFrame to hold concatenated data\n",
        "# anpr_df = None\n",
        "\n",
        "# # Process files in directory\n",
        "# print(\"Files in directory:\")\n",
        "# for i in range(0, len(files), 1):\n",
        "#     filepath = files[i]\n",
        "\n",
        "#     # Check if \"DBA data\" is in the file name and \"000\" is not in the file name #and \"000\" not in filepath\n",
        "#     if \"Axis_ANPR\" in filepath :\n",
        "#         # Read the JSON file into a PySpark DataFrame\n",
        "#         df = spark.read.json(filepath)\n",
        "\n",
        "#         # Concatenate the DataFrame (using union)\n",
        "#         if anpr_df is None:\n",
        "#             anpr_df = df\n",
        "#         else:\n",
        "#             anpr_df = anpr_df.union(df)\n",
        "\n",
        "# # Show the count of rows in the final DataFrame\n",
        "# print(\"Total rows in concatenated DataFrame:\", anpr_df.count())"
      ],
      "metadata": {
        "id": "wYiouoFU2NuK"
      },
      "execution_count": null,
      "outputs": []
    },
    {
      "cell_type": "code",
      "source": [
        "from pyspark.sql.functions import explode, col\n",
        "\n",
        "# Explode the array column `Data Axis_ANPR`\n",
        "df_exploded = anpr_df.withColumn(\"exploded_ANPR\", explode(col(\"Data Axis_ANPR\")))\n",
        "\n",
        "# Access the nested fields in the exploded struct\n",
        "anpr_df_flattened = df_exploded.select(\n",
        "    col(\"exploded_ANPR.events.currentTimestampUs\").alias(\"currentTimestampUs\"),\n",
        "    col(\"exploded_ANPR.events.vcount.direction.in\").alias(\"direction_in\"),\n",
        "    col(\"exploded_ANPR.events.vcount.direction.out\").alias(\"direction_out\"),\n",
        "    col(\"exploded_ANPR.events.vcount.direction.unk\").alias(\"direction_unk\"),\n",
        "    col(\"exploded_ANPR.events.vcount.list.blocklist\").alias(\"blocklist\"),\n",
        "    col(\"exploded_ANPR.events.vcount.list.allowlist\").alias(\"allowlist\"),\n",
        "    col(\"exploded_ANPR.events.vcount.list.customlist\").alias(\"customlist\"),\n",
        "    col(\"exploded_ANPR.events.vcount.list.nonelist\").alias(\"nonelist\"),\n",
        "    col(\"exploded_ANPR.events.vcount.roi.roi1\").alias(\"roi1\"),\n",
        "    col(\"exploded_ANPR.events.vcount.roi.roi2\").alias(\"roi2\"),\n",
        "    col(\"exploded_ANPR.events.vcount.total\").alias(\"total\")\n",
        ")\n",
        "\n",
        "# Show the flattened DataFrame\n",
        "anpr_df_flattened.show(truncate=False)"
      ],
      "metadata": {
        "colab": {
          "base_uri": "https://localhost:8080/"
        },
        "id": "w8U3mNpJOsnD",
        "outputId": "eeb4ece6-1824-4240-c918-669db780f690"
      },
      "execution_count": null,
      "outputs": [
        {
          "output_type": "stream",
          "name": "stdout",
          "text": [
            "+------------------+------------+-------------+-------------+---------+---------+----------+--------+----+----+-----+\n",
            "|currentTimestampUs|direction_in|direction_out|direction_unk|blocklist|allowlist|customlist|nonelist|roi1|roi2|total|\n",
            "+------------------+------------+-------------+-------------+---------+---------+----------+--------+----+----+-----+\n",
            "|1724536805978920  |0           |0            |0            |0        |0        |0         |0       |0   |0   |0    |\n",
            "|1724536816287082  |0           |0            |0            |0        |0        |0         |0       |0   |0   |0    |\n",
            "|1724536826685860  |0           |0            |0            |0        |0        |0         |0       |0   |0   |0    |\n",
            "|1724536837306731  |0           |0            |0            |0        |0        |0         |0       |0   |0   |0    |\n",
            "|1724536847957683  |0           |0            |0            |0        |0        |0         |0       |0   |0   |0    |\n",
            "|1724536858725779  |0           |0            |0            |0        |0        |0         |0       |0   |0   |0    |\n",
            "+------------------+------------+-------------+-------------+---------+---------+----------+--------+----+----+-----+\n",
            "\n"
          ]
        }
      ]
    },
    {
      "cell_type": "code",
      "source": [
        "from pyspark.sql.functions import col, from_unixtime, to_utc_timestamp, from_utc_timestamp\n",
        "from pyspark.sql import functions as F\n",
        "from pyspark.sql import types as T"
      ],
      "metadata": {
        "id": "-WiJcEatUOwQ"
      },
      "execution_count": null,
      "outputs": []
    },
    {
      "cell_type": "code",
      "source": [
        "df = anpr_df_flattened.withColumn(\"currentTimestampUs\", (F.col(\"currentTimestampUs\") / 1e6).cast(T.TimestampType()))\n",
        "\n",
        "df = df.withColumn(\"currentTimestampUs\", F.from_utc_timestamp(F.col(\"currentTimestampUs\"), \"+02:00\"))\n",
        "\n",
        "df.show(truncate=False)"
      ],
      "metadata": {
        "colab": {
          "base_uri": "https://localhost:8080/"
        },
        "id": "76oltvoOipL7",
        "outputId": "68d7974b-2e1c-4149-b729-c5814f742bd9"
      },
      "execution_count": null,
      "outputs": [
        {
          "output_type": "stream",
          "name": "stdout",
          "text": [
            "+--------------------------+------------+-------------+-------------+---------+---------+----------+--------+----+----+-----+\n",
            "|currentTimestampUs        |direction_in|direction_out|direction_unk|blocklist|allowlist|customlist|nonelist|roi1|roi2|total|\n",
            "+--------------------------+------------+-------------+-------------+---------+---------+----------+--------+----+----+-----+\n",
            "|2024-08-25 00:00:05.97892 |0           |0            |0            |0        |0        |0         |0       |0   |0   |0    |\n",
            "|2024-08-25 00:00:16.287082|0           |0            |0            |0        |0        |0         |0       |0   |0   |0    |\n",
            "|2024-08-25 00:00:26.68586 |0           |0            |0            |0        |0        |0         |0       |0   |0   |0    |\n",
            "|2024-08-25 00:00:37.306731|0           |0            |0            |0        |0        |0         |0       |0   |0   |0    |\n",
            "|2024-08-25 00:00:47.957683|0           |0            |0            |0        |0        |0         |0       |0   |0   |0    |\n",
            "|2024-08-25 00:00:58.725779|0           |0            |0            |0        |0        |0         |0       |0   |0   |0    |\n",
            "+--------------------------+------------+-------------+-------------+---------+---------+----------+--------+----+----+-----+\n",
            "\n"
          ]
        }
      ]
    },
    {
      "cell_type": "code",
      "source": [
        "anpr_df_final=df\n",
        "anpr_df_final.show(truncate=False)"
      ],
      "metadata": {
        "colab": {
          "base_uri": "https://localhost:8080/"
        },
        "id": "At_JBQfkUbwl",
        "outputId": "32df94b7-6c96-4800-e102-023fc3c50f56"
      },
      "execution_count": null,
      "outputs": [
        {
          "output_type": "stream",
          "name": "stdout",
          "text": [
            "+--------------------------+------------+-------------+-------------+---------+---------+----------+--------+----+----+-----+\n",
            "|currentTimestampUs        |direction_in|direction_out|direction_unk|blocklist|allowlist|customlist|nonelist|roi1|roi2|total|\n",
            "+--------------------------+------------+-------------+-------------+---------+---------+----------+--------+----+----+-----+\n",
            "|2024-08-25 00:00:05.97892 |0           |0            |0            |0        |0        |0         |0       |0   |0   |0    |\n",
            "|2024-08-25 00:00:16.287082|0           |0            |0            |0        |0        |0         |0       |0   |0   |0    |\n",
            "|2024-08-25 00:00:26.68586 |0           |0            |0            |0        |0        |0         |0       |0   |0   |0    |\n",
            "|2024-08-25 00:00:37.306731|0           |0            |0            |0        |0        |0         |0       |0   |0   |0    |\n",
            "|2024-08-25 00:00:47.957683|0           |0            |0            |0        |0        |0         |0       |0   |0   |0    |\n",
            "|2024-08-25 00:00:58.725779|0           |0            |0            |0        |0        |0         |0       |0   |0   |0    |\n",
            "+--------------------------+------------+-------------+-------------+---------+---------+----------+--------+----+----+-----+\n",
            "\n"
          ]
        }
      ]
    },
    {
      "cell_type": "code",
      "source": [
        "anpr_df_final.printSchema()"
      ],
      "metadata": {
        "colab": {
          "base_uri": "https://localhost:8080/"
        },
        "id": "KD17i6jWrlmV",
        "outputId": "a6ffd940-7605-423c-b21f-068d00ea6fc4"
      },
      "execution_count": null,
      "outputs": [
        {
          "output_type": "stream",
          "name": "stdout",
          "text": [
            "root\n",
            " |-- currentTimestampUs: timestamp (nullable = true)\n",
            " |-- direction_in: string (nullable = true)\n",
            " |-- direction_out: string (nullable = true)\n",
            " |-- direction_unk: string (nullable = true)\n",
            " |-- blocklist: string (nullable = true)\n",
            " |-- allowlist: string (nullable = true)\n",
            " |-- customlist: string (nullable = true)\n",
            " |-- nonelist: string (nullable = true)\n",
            " |-- roi1: string (nullable = true)\n",
            " |-- roi2: string (nullable = true)\n",
            " |-- total: string (nullable = true)\n",
            "\n"
          ]
        }
      ]
    },
    {
      "cell_type": "code",
      "source": [
        "DBA_df=spark.read.format(\"json\") \\\n",
        "          .option(\"multiLine\", True) \\\n",
        "          .option(\"header\",True) \\\n",
        "          .option(\"inferschema\",True) \\\n",
        "          .load(\"/content/20240825T0000_DBA data.json\")"
      ],
      "metadata": {
        "id": "xEH5KWrIO51J"
      },
      "execution_count": null,
      "outputs": []
    },
    {
      "cell_type": "code",
      "source": [
        "# # Directory path\n",
        "# import os\n",
        "\n",
        "# directory_path = \"/home/aniket/Downloads/JsonRawdataFiles/20240825/\"\n",
        "\n",
        "# # List all files in the directory\n",
        "# files = [os.path.join(directory_path, file) for file in os.listdir(directory_path) if os.path.isfile(os.path.join(directory_path, file))]\n",
        "\n",
        "# # Empty DataFrame to hold concatenated data\n",
        "# DBA_df = None\n",
        "\n",
        "# # Process files in directory\n",
        "# print(\"Files in directory:\")\n",
        "# for i in range(0, len(files), 1):\n",
        "#     filepath = files[i]\n",
        "\n",
        "#     # Check if \"DBA data\" is in the file name and \"000\" is not in the file name #and \"000\" not in filepath\n",
        "#     if \"DBA data\" in filepath :\n",
        "#         # Read the JSON file into a PySpark DataFrame\n",
        "#         df = spark.read.json(filepath)\n",
        "\n",
        "#         # Concatenate the DataFrame (using union)\n",
        "#         if DBA_df is None:\n",
        "#             DBA_df = df\n",
        "#         else:\n",
        "#             DBA_df = DBA_df.union(df)\n",
        "\n",
        "# # Show the count of rows in the final DataFrame\n",
        "# print(\"Total rows in concatenated DataFrame:\", DBA_df.count())"
      ],
      "metadata": {
        "id": "pZkTp9X629Up"
      },
      "execution_count": null,
      "outputs": []
    },
    {
      "cell_type": "code",
      "source": [
        "from pyspark.sql.functions import explode, col\n",
        "\n",
        "# Explode the outermost array `Data DBA data`\n",
        "df_exploded_1 = DBA_df.withColumn(\"exploded_DBA_data\", explode(col(\"Data DBA data\")))\n",
        "\n",
        "# Explode the inner array inside `exploded_DBA_data`\n",
        "df_exploded_2 = df_exploded_1.withColumn(\"exploded_element\", explode(col(\"exploded_DBA_data\")))\n",
        "\n",
        "# Select the fields from the exploded structure\n",
        "df_flattened = df_exploded_2.select(\n",
        "    col(\"exploded_element.id\").alias(\"id\"),\n",
        "    col(\"exploded_element.resultType\").alias(\"resultType\"),\n",
        "    col(\"exploded_element.timestamp\").alias(\"timestamp\"),\n",
        "    col(\"exploded_element.locations\").alias(\"locations\"),\n",
        "    col(\"exploded_element.values\").alias(\"values\")\n",
        ")\n",
        "\n",
        "# To further explode the `locations` array\n",
        "df_locations_exploded = df_flattened.withColumn(\"exploded_locations\", explode(col(\"locations\")))\n",
        "\n",
        "# Select the individual x, y, z values from the exploded locations\n",
        "DBA_df_final = df_locations_exploded.select(\n",
        "    col(\"id\"),\n",
        "    col(\"resultType\"),\n",
        "    col(\"timestamp\"),\n",
        "    col(\"exploded_locations.x\").alias(\"location_x\"),\n",
        "    col(\"exploded_locations.y\").alias(\"location_y\"),\n",
        "    col(\"exploded_locations.z\").alias(\"location_z\"),\n",
        "    col(\"values\").alias(\"values\")\n",
        ")\n",
        "\n",
        "# Show the final flattened DataFrame\n",
        "DBA_df_final.show(truncate=False)"
      ],
      "metadata": {
        "colab": {
          "base_uri": "https://localhost:8080/"
        },
        "id": "cWBxuBK0OXtE",
        "outputId": "98faa011-15e9-4cba-cb4b-b8d6f91d9a6a"
      },
      "execution_count": null,
      "outputs": [
        {
          "output_type": "stream",
          "name": "stdout",
          "text": [
            "+---+----------+-----------------------------------+-----------------+-----------------+-----------------+--------------------+\n",
            "|id |resultType|timestamp                          |location_x       |location_y       |location_z       |values              |\n",
            "+---+----------+-----------------------------------+-----------------+-----------------+-----------------+--------------------+\n",
            "|1  |Event     |2024-08-25T00:00:43.536273587+02:00|4320424.244834278|565871.5884135148|4642458.985721508|[46.830772399902344]|\n",
            "|1  |Event     |2024-08-25T00:00:43.536273535+02:00|4320424.244834278|565871.5884135148|4642458.985721508|[46.830772399902344]|\n",
            "|1  |Event     |2024-08-25T00:00:51.063551509+02:00|4320424.244834278|565871.5884135148|4642458.985721508|[48.511775970458984]|\n",
            "|1  |Event     |2024-08-25T00:00:51.175898729+02:00|4320424.244834278|565871.5884135148|4642458.985721508|[48.94055938720703] |\n",
            "|1  |Event     |2024-08-25T00:00:51.288246159+02:00|4320424.244834278|565871.5884135148|4642458.985721508|[48.128929138183594]|\n",
            "|1  |Event     |2024-08-25T00:00:51.512941015+02:00|4320424.244834278|565871.5884135148|4642458.985721508|[46.17887496948242] |\n",
            "|1  |Event     |2024-08-25T00:00:51.737635924+02:00|4320424.244834278|565871.5884135148|4642458.985721508|[49.649959564208984]|\n",
            "|1  |Event     |2024-08-25T00:00:51.849983301+02:00|4320424.244834278|565871.5884135148|4642458.985721508|[49.17671203613281] |\n",
            "|1  |Event     |2024-08-25T00:00:51.962330677+02:00|4320424.244834278|565871.5884135148|4642458.985721508|[47.637664794921875]|\n",
            "|1  |Event     |2024-08-25T00:00:52.074678158+02:00|4320424.244834278|565871.5884135148|4642458.985721508|[52.57440185546875] |\n",
            "|1  |Event     |2024-08-25T00:00:52.524067872+02:00|4320424.244834278|565871.5884135148|4642458.985721508|[47.71942901611328] |\n",
            "|1  |Event     |2024-08-25T00:00:52.748762730+02:00|4320424.244834278|565871.5884135148|4642458.985721508|[45.39942932128906] |\n",
            "|1  |Event     |2024-08-25T00:00:53.198152392+02:00|4320424.244834278|565871.5884135148|4642458.985721508|[50.56135559082031] |\n",
            "|1  |Event     |2024-08-25T00:00:53.310499873+02:00|4320424.244834278|565871.5884135148|4642458.985721508|[47.08549880981445] |\n",
            "|1  |Event     |2024-08-25T00:00:53.422847301+02:00|4320424.244834278|565871.5884135148|4642458.985721508|[47.01286697387695] |\n",
            "|1  |Event     |2024-08-25T00:00:53.535194730+02:00|4320424.244834278|565871.5884135148|4642458.985721508|[49.78752899169922] |\n",
            "|1  |Event     |2024-08-25T00:00:53.872237015+02:00|4320424.244834278|565871.5884135148|4642458.985721508|[45.25800704956055] |\n",
            "|1  |Event     |2024-08-25T00:00:54.096931925+02:00|4320424.244834278|565871.5884135148|4642458.985721508|[50.76137161254883] |\n",
            "|1  |Event     |2024-08-25T00:00:54.209279301+02:00|4320424.244834278|565871.5884135148|4642458.985721508|[48.25901412963867] |\n",
            "|1  |Event     |2024-08-25T00:00:54.433974158+02:00|4320424.244834278|565871.5884135148|4642458.985721508|[47.45514678955078] |\n",
            "+---+----------+-----------------------------------+-----------------+-----------------+-----------------+--------------------+\n",
            "only showing top 20 rows\n",
            "\n"
          ]
        }
      ]
    },
    {
      "cell_type": "code",
      "source": [
        "DBA_df_final= DBA_df_final.withColumn(\"timestamp\", F.from_utc_timestamp(F.col(\"timestamp\"), \"+02:00\"))\n",
        "DBA_df_final.show(truncate=False)"
      ],
      "metadata": {
        "colab": {
          "base_uri": "https://localhost:8080/"
        },
        "id": "ozAzeMppr3hU",
        "outputId": "c53f1220-5a41-4774-c743-fbd4e4d57590"
      },
      "execution_count": null,
      "outputs": [
        {
          "output_type": "stream",
          "name": "stdout",
          "text": [
            "+---+----------+--------------------------+-----------------+-----------------+-----------------+--------------------+\n",
            "|id |resultType|timestamp                 |location_x       |location_y       |location_z       |values              |\n",
            "+---+----------+--------------------------+-----------------+-----------------+-----------------+--------------------+\n",
            "|1  |Event     |2024-08-25 00:00:43.536273|4320424.244834278|565871.5884135148|4642458.985721508|[46.830772399902344]|\n",
            "|1  |Event     |2024-08-25 00:00:43.536273|4320424.244834278|565871.5884135148|4642458.985721508|[46.830772399902344]|\n",
            "|1  |Event     |2024-08-25 00:00:51.063551|4320424.244834278|565871.5884135148|4642458.985721508|[48.511775970458984]|\n",
            "|1  |Event     |2024-08-25 00:00:51.175898|4320424.244834278|565871.5884135148|4642458.985721508|[48.94055938720703] |\n",
            "|1  |Event     |2024-08-25 00:00:51.288246|4320424.244834278|565871.5884135148|4642458.985721508|[48.128929138183594]|\n",
            "|1  |Event     |2024-08-25 00:00:51.512941|4320424.244834278|565871.5884135148|4642458.985721508|[46.17887496948242] |\n",
            "|1  |Event     |2024-08-25 00:00:51.737635|4320424.244834278|565871.5884135148|4642458.985721508|[49.649959564208984]|\n",
            "|1  |Event     |2024-08-25 00:00:51.849983|4320424.244834278|565871.5884135148|4642458.985721508|[49.17671203613281] |\n",
            "|1  |Event     |2024-08-25 00:00:51.96233 |4320424.244834278|565871.5884135148|4642458.985721508|[47.637664794921875]|\n",
            "|1  |Event     |2024-08-25 00:00:52.074678|4320424.244834278|565871.5884135148|4642458.985721508|[52.57440185546875] |\n",
            "|1  |Event     |2024-08-25 00:00:52.524067|4320424.244834278|565871.5884135148|4642458.985721508|[47.71942901611328] |\n",
            "|1  |Event     |2024-08-25 00:00:52.748762|4320424.244834278|565871.5884135148|4642458.985721508|[45.39942932128906] |\n",
            "|1  |Event     |2024-08-25 00:00:53.198152|4320424.244834278|565871.5884135148|4642458.985721508|[50.56135559082031] |\n",
            "|1  |Event     |2024-08-25 00:00:53.310499|4320424.244834278|565871.5884135148|4642458.985721508|[47.08549880981445] |\n",
            "|1  |Event     |2024-08-25 00:00:53.422847|4320424.244834278|565871.5884135148|4642458.985721508|[47.01286697387695] |\n",
            "|1  |Event     |2024-08-25 00:00:53.535194|4320424.244834278|565871.5884135148|4642458.985721508|[49.78752899169922] |\n",
            "|1  |Event     |2024-08-25 00:00:53.872237|4320424.244834278|565871.5884135148|4642458.985721508|[45.25800704956055] |\n",
            "|1  |Event     |2024-08-25 00:00:54.096931|4320424.244834278|565871.5884135148|4642458.985721508|[50.76137161254883] |\n",
            "|1  |Event     |2024-08-25 00:00:54.209279|4320424.244834278|565871.5884135148|4642458.985721508|[48.25901412963867] |\n",
            "|1  |Event     |2024-08-25 00:00:54.433974|4320424.244834278|565871.5884135148|4642458.985721508|[47.45514678955078] |\n",
            "+---+----------+--------------------------+-----------------+-----------------+-----------------+--------------------+\n",
            "only showing top 20 rows\n",
            "\n"
          ]
        }
      ]
    },
    {
      "cell_type": "code",
      "source": [
        "DBA_df_final.select(F.max('timestamp'),F.min('timestamp')).show(truncate=False)"
      ],
      "metadata": {
        "colab": {
          "base_uri": "https://localhost:8080/"
        },
        "id": "rY9O1hrroxxt",
        "outputId": "56a53069-2d32-4f95-f082-f6fc96609f33"
      },
      "execution_count": null,
      "outputs": [
        {
          "output_type": "stream",
          "name": "stdout",
          "text": [
            "+--------------------------+--------------------------+\n",
            "|max(timestamp)            |min(timestamp)            |\n",
            "+--------------------------+--------------------------+\n",
            "|2024-08-25 00:00:57.467354|2024-08-25 00:00:43.536273|\n",
            "+--------------------------+--------------------------+\n",
            "\n"
          ]
        }
      ]
    },
    {
      "cell_type": "code",
      "source": [
        "anpr_df_final.select(F.max('currentTimestampUs'),F.min('currentTimestampUs')).show(truncate=False)"
      ],
      "metadata": {
        "colab": {
          "base_uri": "https://localhost:8080/"
        },
        "id": "VrEz2EP8vZOj",
        "outputId": "15351a53-12df-4c54-9005-e6f24ae2c323"
      },
      "execution_count": null,
      "outputs": [
        {
          "output_type": "stream",
          "name": "stdout",
          "text": [
            "+--------------------------+-------------------------+\n",
            "|max(currentTimestampUs)   |min(currentTimestampUs)  |\n",
            "+--------------------------+-------------------------+\n",
            "|2024-08-25 00:00:58.725779|2024-08-25 00:00:05.97892|\n",
            "+--------------------------+-------------------------+\n",
            "\n"
          ]
        }
      ]
    },
    {
      "cell_type": "code",
      "source": [
        "from pyspark.sql.functions import col, abs, unix_timestamp,expr\n",
        "\n",
        "# Convert the timestamps to unix timestamps (seconds since epoch) for comparison\n",
        "df_a = anpr_df_final\n",
        "df_d = DBA_df_final\n",
        "\n",
        "# Perform a cross join between the two DataFrames (this is needed since we're doing an asof join)\n",
        "cross_joined_df = df_a.join(df_d, df_a[\"currentTimestampUs\"] >= df_d[\"timestamp\"], \"left_outer\")\n",
        "\n",
        "# Calculate the absolute difference between the timestamps\n",
        "cross_joined_df = cross_joined_df.withColumn(\"time_diff\",\n",
        "                                             abs(col(\"currentTimestampUs\") - col(\"timestamp\")))\n",
        "\n",
        "# Filter out rows where the time difference is greater than 3 hours (10800 seconds)\n",
        "filtered_df = cross_joined_df.filter(expr(\"time_diff <= interval 7200 seconds\"))\n",
        "\n",
        "# Use windowing to get the nearest match within the 3-hour tolerance\n",
        "from pyspark.sql.window import Window\n",
        "from pyspark.sql.functions import row_number\n",
        "\n",
        "# Window partitioned by events.currentTimestampUs and ordered by the time_diff\n",
        "window_spec = Window.partitionBy(\"currentTimestampUs\").orderBy(col(\"time_diff\"))\n",
        "\n",
        "# Add a row number and filter to keep only the first row (the nearest match)\n",
        "final_df = filtered_df.withColumn(\"rn\", row_number().over(window_spec)).filter(col(\"rn\") == 1)\n",
        "\n",
        "# Drop the auxiliary columns if no longer needed\n",
        "final_df = final_df.drop(\"time_diff\", \"rn\")"
      ],
      "metadata": {
        "id": "6H9kqzrgSPkA"
      },
      "execution_count": null,
      "outputs": []
    },
    {
      "cell_type": "code",
      "source": [
        "final_df.show(truncate=False)"
      ],
      "metadata": {
        "colab": {
          "base_uri": "https://localhost:8080/"
        },
        "id": "6czgYqJes_OG",
        "outputId": "2947aa6a-6027-4646-b910-bb11ac308e95"
      },
      "execution_count": null,
      "outputs": [
        {
          "output_type": "stream",
          "name": "stdout",
          "text": [
            "+--------------------------+------------+-------------+-------------+---------+---------+----------+--------+----+----+-----+---+----------+--------------------------+-----------------+-----------------+-----------------+--------------------+\n",
            "|currentTimestampUs        |direction_in|direction_out|direction_unk|blocklist|allowlist|customlist|nonelist|roi1|roi2|total|id |resultType|timestamp                 |location_x       |location_y       |location_z       |values              |\n",
            "+--------------------------+------------+-------------+-------------+---------+---------+----------+--------+----+----+-----+---+----------+--------------------------+-----------------+-----------------+-----------------+--------------------+\n",
            "|2024-08-25 00:00:47.957683|0           |0            |0            |0        |0        |0         |0       |0   |0   |0    |1  |Event     |2024-08-25 00:00:43.536273|4320424.244834278|565871.5884135148|4642458.985721508|[46.830772399902344]|\n",
            "|2024-08-25 00:00:58.725779|0           |0            |0            |0        |0        |0         |0       |0   |0   |0    |1  |Event     |2024-08-25 00:00:57.467354|4320424.244834278|565871.5884135148|4642458.985721508|[48.01514434814453] |\n",
            "+--------------------------+------------+-------------+-------------+---------+---------+----------+--------+----+----+-----+---+----------+--------------------------+-----------------+-----------------+-----------------+--------------------+\n",
            "\n"
          ]
        }
      ]
    },
    {
      "cell_type": "markdown",
      "source": [
        "<h1> Third DF Start </h1>"
      ],
      "metadata": {
        "id": "pvK3N0_ayeTX"
      }
    },
    {
      "cell_type": "code",
      "source": [
        "DBC_df=spark.read.format(\"json\") \\\n",
        "          .option(\"multiLine\", True) \\\n",
        "          .option(\"header\",True) \\\n",
        "          .option(\"inferschema\",True) \\\n",
        "          .load(\"/content/20240825T0000_DBC data.json\")"
      ],
      "metadata": {
        "id": "z1VK0WFsPVI_"
      },
      "execution_count": null,
      "outputs": []
    },
    {
      "cell_type": "code",
      "source": [
        "# # Directory path\n",
        "# import os\n",
        "\n",
        "# directory_path = \"/home/aniket/Downloads/JsonRawdataFiles/20240825/\"\n",
        "\n",
        "# # List all files in the directory\n",
        "# files = [os.path.join(directory_path, file) for file in os.listdir(directory_path) if os.path.isfile(os.path.join(directory_path, file))]\n",
        "\n",
        "# # Empty DataFrame to hold concatenated data\n",
        "# DBC_df = None\n",
        "\n",
        "# # Process files in directory\n",
        "# print(\"Files in directory:\")\n",
        "# for i in range(0, len(files), 1):\n",
        "#     filepath = files[i]\n",
        "\n",
        "#     # Check if \"DBA data\" is in the file name and \"000\" is not in the file name #and \"000\" not in filepath\n",
        "#     if \"DBC data\" in filepath :\n",
        "#         # Read the JSON file into a PySpark DataFrame\n",
        "#         df = spark.read.json(filepath)\n",
        "\n",
        "#         # Concatenate the DataFrame (using union)\n",
        "#         if DBC_df is None:\n",
        "#             DBC_df = df\n",
        "#         else:\n",
        "#             DBC_df = DBC_df.union(df)\n",
        "\n",
        "# # Show the count of rows in the final DataFrame\n",
        "# print(\"Total rows in concatenated DataFrame:\", DBC_df.count())"
      ],
      "metadata": {
        "id": "uHX9mdSA3kCn"
      },
      "execution_count": null,
      "outputs": []
    },
    {
      "cell_type": "code",
      "source": [
        "from pyspark.sql.functions import explode, col\n",
        "\n",
        "# First explode the outer array `Data DBC data`\n",
        "df_exploded_1 = DBC_df.withColumn(\"exploded_DBC_data\", explode(col(\"Data DBC data\")))\n",
        "\n",
        "# Second explode the inner array within `Data DBC data`\n",
        "df_exploded_2 = df_exploded_1.withColumn(\"exploded_element\", explode(col(\"exploded_DBC_data\")))\n",
        "\n",
        "# Select the fields from the exploded struct\n",
        "df_flattened = df_exploded_2.select(\n",
        "    col(\"exploded_element.id\").alias(\"id\"),\n",
        "    col(\"exploded_element.resultType\").alias(\"resultType\"),\n",
        "    col(\"exploded_element.timestamp\").alias(\"timestamp\"),\n",
        "    col(\"exploded_element.locations\").alias(\"locations\"),\n",
        "    col(\"exploded_element.values\").alias(\"values\")\n",
        ")\n",
        "\n",
        "# Explode the `locations` array to access `x`, `y`, and `z`\n",
        "df_locations_exploded = df_flattened.withColumn(\"exploded_locations\", explode(col(\"locations\")))\n",
        "\n",
        "# Select the individual x, y, z values from the exploded locations\n",
        "DBC_df_final = df_locations_exploded.select(\n",
        "    col(\"id\"),\n",
        "    col(\"resultType\"),\n",
        "    col(\"timestamp\"),\n",
        "    col(\"exploded_locations.x\").alias(\"location_x\"),\n",
        "    col(\"exploded_locations.y\").alias(\"location_y\"),\n",
        "    col(\"exploded_locations.z\").alias(\"location_z\"),\n",
        "    col(\"values\").alias(\"values\")\n",
        ")\n",
        "\n",
        "# Show the final flattened DataFrame\n",
        "DBC_df_final.show(truncate=False)"
      ],
      "metadata": {
        "colab": {
          "base_uri": "https://localhost:8080/"
        },
        "id": "XoqQ34FhPqvm",
        "outputId": "7949e3ab-682d-4614-c5ab-b150472d361f"
      },
      "execution_count": null,
      "outputs": [
        {
          "output_type": "stream",
          "name": "stdout",
          "text": [
            "+---+----------+-----------------------------------+-----------------+-----------------+-----------------+--------------------+\n",
            "|id |resultType|timestamp                          |location_x       |location_y       |location_z       |values              |\n",
            "+---+----------+-----------------------------------+-----------------+-----------------+-----------------+--------------------+\n",
            "|2  |Event     |2024-08-24T23:59:34.966892963+02:00|4320424.244834278|565871.5884135148|4642458.985721508|[51.28324508666992] |\n",
            "|2  |Event     |2024-08-24T23:59:35.079240601+02:00|4320424.244834278|565871.5884135148|4642458.985721508|[51.395042419433594]|\n",
            "|2  |Event     |2024-08-24T23:59:35.191587873+02:00|4320424.244834278|565871.5884135148|4642458.985721508|[50.98021697998047] |\n",
            "|2  |Event     |2024-08-24T23:59:35.303935353+02:00|4320424.244834278|565871.5884135148|4642458.985721508|[51.33732223510742] |\n",
            "|2  |Event     |2024-08-24T23:59:35.416282729+02:00|4320424.244834278|565871.5884135148|4642458.985721508|[51.0670280456543]  |\n",
            "|2  |Event     |2024-08-24T23:59:35.528630106+02:00|4320424.244834278|565871.5884135148|4642458.985721508|[51.51207733154297] |\n",
            "|2  |Event     |2024-08-24T23:59:35.640977587+02:00|4320424.244834278|565871.5884135148|4642458.985721508|[51.784027099609375]|\n",
            "|2  |Event     |2024-08-24T23:59:35.753325015+02:00|4320424.244834278|565871.5884135148|4642458.985721508|[52.06098937988281] |\n",
            "|2  |Event     |2024-08-24T23:59:35.865672444+02:00|4320424.244834278|565871.5884135148|4642458.985721508|[51.86702346801758] |\n",
            "|2  |Event     |2024-08-24T23:59:35.978019873+02:00|4320424.244834278|565871.5884135148|4642458.985721508|[51.712303161621094]|\n",
            "|2  |Event     |2024-08-24T23:59:36.090367249+02:00|4320424.244834278|565871.5884135148|4642458.985721508|[51.45716094970703] |\n",
            "|2  |Event     |2024-08-24T23:59:36.202714729+02:00|4320424.244834278|565871.5884135148|4642458.985721508|[51.82398986816406] |\n",
            "|2  |Event     |2024-08-24T23:59:36.315062158+02:00|4320424.244834278|565871.5884135148|4642458.985721508|[51.53913116455078] |\n",
            "|2  |Event     |2024-08-24T23:59:36.427409587+02:00|4320424.244834278|565871.5884135148|4642458.985721508|[51.76115417480469] |\n",
            "|2  |Event     |2024-08-24T23:59:36.539757015+02:00|4320424.244834278|565871.5884135148|4642458.985721508|[51.68079376220703] |\n",
            "|2  |Event     |2024-08-24T23:59:36.652104444+02:00|4320424.244834278|565871.5884135148|4642458.985721508|[51.75293731689453] |\n",
            "|2  |Event     |2024-08-24T23:59:36.764451872+02:00|4320424.244834278|565871.5884135148|4642458.985721508|[52.131370544433594]|\n",
            "|2  |Event     |2024-08-24T23:59:36.876799353+02:00|4320424.244834278|565871.5884135148|4642458.985721508|[51.78373336791992] |\n",
            "|2  |Event     |2024-08-24T23:59:36.989146730+02:00|4320424.244834278|565871.5884135148|4642458.985721508|[51.574012756347656]|\n",
            "|2  |Event     |2024-08-24T23:59:37.101494106+02:00|4320424.244834278|565871.5884135148|4642458.985721508|[51.570648193359375]|\n",
            "+---+----------+-----------------------------------+-----------------+-----------------+-----------------+--------------------+\n",
            "only showing top 20 rows\n",
            "\n"
          ]
        }
      ]
    },
    {
      "cell_type": "code",
      "source": [
        "DBC_df_final= DBC_df_final.withColumn(\"timestamp\", F.from_utc_timestamp(F.col(\"timestamp\"), \"+02:00\"))\n",
        "DBC_df_final.show(truncate=False)"
      ],
      "metadata": {
        "colab": {
          "base_uri": "https://localhost:8080/"
        },
        "id": "wnSLEvlMyq28",
        "outputId": "e8941d04-9664-4a90-cbd9-43e8031555d9"
      },
      "execution_count": null,
      "outputs": [
        {
          "output_type": "stream",
          "name": "stdout",
          "text": [
            "+---+----------+--------------------------+-----------------+-----------------+-----------------+--------------------+\n",
            "|id |resultType|timestamp                 |location_x       |location_y       |location_z       |values              |\n",
            "+---+----------+--------------------------+-----------------+-----------------+-----------------+--------------------+\n",
            "|2  |Event     |2024-08-24 23:59:34.966892|4320424.244834278|565871.5884135148|4642458.985721508|[51.28324508666992] |\n",
            "|2  |Event     |2024-08-24 23:59:35.07924 |4320424.244834278|565871.5884135148|4642458.985721508|[51.395042419433594]|\n",
            "|2  |Event     |2024-08-24 23:59:35.191587|4320424.244834278|565871.5884135148|4642458.985721508|[50.98021697998047] |\n",
            "|2  |Event     |2024-08-24 23:59:35.303935|4320424.244834278|565871.5884135148|4642458.985721508|[51.33732223510742] |\n",
            "|2  |Event     |2024-08-24 23:59:35.416282|4320424.244834278|565871.5884135148|4642458.985721508|[51.0670280456543]  |\n",
            "|2  |Event     |2024-08-24 23:59:35.52863 |4320424.244834278|565871.5884135148|4642458.985721508|[51.51207733154297] |\n",
            "|2  |Event     |2024-08-24 23:59:35.640977|4320424.244834278|565871.5884135148|4642458.985721508|[51.784027099609375]|\n",
            "|2  |Event     |2024-08-24 23:59:35.753325|4320424.244834278|565871.5884135148|4642458.985721508|[52.06098937988281] |\n",
            "|2  |Event     |2024-08-24 23:59:35.865672|4320424.244834278|565871.5884135148|4642458.985721508|[51.86702346801758] |\n",
            "|2  |Event     |2024-08-24 23:59:35.978019|4320424.244834278|565871.5884135148|4642458.985721508|[51.712303161621094]|\n",
            "|2  |Event     |2024-08-24 23:59:36.090367|4320424.244834278|565871.5884135148|4642458.985721508|[51.45716094970703] |\n",
            "|2  |Event     |2024-08-24 23:59:36.202714|4320424.244834278|565871.5884135148|4642458.985721508|[51.82398986816406] |\n",
            "|2  |Event     |2024-08-24 23:59:36.315062|4320424.244834278|565871.5884135148|4642458.985721508|[51.53913116455078] |\n",
            "|2  |Event     |2024-08-24 23:59:36.427409|4320424.244834278|565871.5884135148|4642458.985721508|[51.76115417480469] |\n",
            "|2  |Event     |2024-08-24 23:59:36.539757|4320424.244834278|565871.5884135148|4642458.985721508|[51.68079376220703] |\n",
            "|2  |Event     |2024-08-24 23:59:36.652104|4320424.244834278|565871.5884135148|4642458.985721508|[51.75293731689453] |\n",
            "|2  |Event     |2024-08-24 23:59:36.764451|4320424.244834278|565871.5884135148|4642458.985721508|[52.131370544433594]|\n",
            "|2  |Event     |2024-08-24 23:59:36.876799|4320424.244834278|565871.5884135148|4642458.985721508|[51.78373336791992] |\n",
            "|2  |Event     |2024-08-24 23:59:36.989146|4320424.244834278|565871.5884135148|4642458.985721508|[51.574012756347656]|\n",
            "|2  |Event     |2024-08-24 23:59:37.101494|4320424.244834278|565871.5884135148|4642458.985721508|[51.570648193359375]|\n",
            "+---+----------+--------------------------+-----------------+-----------------+-----------------+--------------------+\n",
            "only showing top 20 rows\n",
            "\n"
          ]
        }
      ]
    },
    {
      "cell_type": "code",
      "source": [
        "from pyspark.sql import functions as F\n",
        "DBC_df_final.select(F.max('timestamp'),F.min('timestamp')).show(truncate=False)"
      ],
      "metadata": {
        "colab": {
          "base_uri": "https://localhost:8080/"
        },
        "id": "b-0lJ2hwhndI",
        "outputId": "3cbb7e75-035e-42f2-cb0a-e00577de7908"
      },
      "execution_count": null,
      "outputs": [
        {
          "output_type": "stream",
          "name": "stdout",
          "text": [
            "+--------------------------+--------------------------+\n",
            "|max(timestamp)            |min(timestamp)            |\n",
            "+--------------------------+--------------------------+\n",
            "|2024-08-25 00:00:58.890422|2024-08-24 23:59:34.966892|\n",
            "+--------------------------+--------------------------+\n",
            "\n"
          ]
        }
      ]
    },
    {
      "cell_type": "code",
      "source": [
        "from pyspark.sql.functions import col, abs, unix_timestamp,expr\n",
        "\n",
        "# Convert the timestamps to unix timestamps (seconds since epoch) for comparison\n",
        "df_a = anpr_df_final\n",
        "df_c = DBC_df_final\n",
        "\n",
        "# Perform a cross join between the two DataFrames (this is needed since we're doing an asof join)\n",
        "cross_joined_df = df_a.join(df_c, df_a[\"currentTimestampUs\"] >= df_c[\"timestamp\"], \"left_outer\")\n",
        "\n",
        "# Calculate the absolute difference between the timestamps\n",
        "cross_joined_df = cross_joined_df.withColumn(\"time_diff\",\n",
        "                                             abs(col(\"currentTimestampUs\") - col(\"timestamp\")))\n",
        "\n",
        "# Filter out rows where the time difference is greater than 3 hours (10800 seconds)\n",
        "filtered_df = cross_joined_df.filter(expr(\"time_diff <= interval 10800 seconds\"))\n",
        "\n",
        "# Use windowing to get the nearest match within the 3-hour tolerance\n",
        "from pyspark.sql.window import Window\n",
        "from pyspark.sql.functions import row_number\n",
        "\n",
        "# Window partitioned by events.currentTimestampUs and ordered by the time_diff\n",
        "window_spec = Window.partitionBy(\"currentTimestampUs\").orderBy(col(\"time_diff\"))\n",
        "\n",
        "# Add a row number and filter to keep only the first row (the nearest match)\n",
        "final_df_c = filtered_df.withColumn(\"rn\", row_number().over(window_spec))#.filter(col(\"rn\") == 1)\n",
        "\n",
        "# Drop the auxiliary columns if no longer needed\n",
        "#final_df_c = final_df.drop(\"time_diff\", \"rn\")"
      ],
      "metadata": {
        "id": "4c-gXfLFdXxh"
      },
      "execution_count": null,
      "outputs": []
    },
    {
      "cell_type": "code",
      "source": [
        "final_df_c.select(\"currentTimestampUs\").groupBy(\"currentTimestampUs\").count().show(truncate=False)"
      ],
      "metadata": {
        "colab": {
          "base_uri": "https://localhost:8080/"
        },
        "id": "X93DNjWReHA8",
        "outputId": "3eb78004-5599-4696-d7c6-32140871568a"
      },
      "execution_count": null,
      "outputs": [
        {
          "output_type": "stream",
          "name": "stdout",
          "text": [
            "+--------------------------+-----+\n",
            "|currentTimestampUs        |count|\n",
            "+--------------------------+-----+\n",
            "|2024-08-25 00:00:05.97892 |546  |\n",
            "|2024-08-25 00:00:26.68586 |1085 |\n",
            "|2024-08-25 00:00:37.306731|1358 |\n",
            "|2024-08-25 00:00:58.725779|1648 |\n",
            "|2024-08-25 00:00:47.957683|1550 |\n",
            "|2024-08-25 00:00:16.287082|811  |\n",
            "+--------------------------+-----+\n",
            "\n"
          ]
        }
      ]
    },
    {
      "cell_type": "code",
      "source": [
        "df_d.select(F.max('timestamp'),F.min('timestamp')).show(truncate=False)"
      ],
      "metadata": {
        "colab": {
          "base_uri": "https://localhost:8080/"
        },
        "id": "jlAQiwOeZQ3U",
        "outputId": "9739a6c1-66a4-40e3-b161-0aeed085a9d3"
      },
      "execution_count": null,
      "outputs": [
        {
          "output_type": "stream",
          "name": "stdout",
          "text": [
            "+--------------------------+--------------------------+\n",
            "|max(timestamp)            |min(timestamp)            |\n",
            "+--------------------------+--------------------------+\n",
            "|2024-08-25 00:00:57.467354|2024-08-25 00:00:43.536273|\n",
            "+--------------------------+--------------------------+\n",
            "\n"
          ]
        }
      ]
    }
  ]
}