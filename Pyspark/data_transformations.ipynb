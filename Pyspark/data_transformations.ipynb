{
  "cells": [
    {
      "cell_type": "markdown",
      "metadata": {
        "id": "view-in-github",
        "colab_type": "text"
      },
      "source": [
        "<a href=\"https://colab.research.google.com/github/abelsare348/codes/blob/pyspark/Pyspark/data_transformations.ipynb\" target=\"_parent\"><img src=\"https://colab.research.google.com/assets/colab-badge.svg\" alt=\"Open In Colab\"/></a>"
      ]
    },
    {
      "cell_type": "code",
      "source": [
        "pip install pyspark"
      ],
      "metadata": {
        "id": "JURlKzp0XXGH"
      },
      "execution_count": null,
      "outputs": []
    },
    {
      "cell_type": "code",
      "source": [
        "from pyspark import SparkContext\n",
        "from pyspark.sql import SparkSession\n",
        "spark=SparkSession.builder.appName(\"Spark_Sample\").master(\"local\").getOrCreate()"
      ],
      "metadata": {
        "id": "ktZ4s4rnYLnY"
      },
      "execution_count": 3,
      "outputs": []
    },
    {
      "cell_type": "code",
      "source": [
        "from pyspark.sql.types import StructType,StructField,StringType,IntegerType\n"
      ],
      "metadata": {
        "id": "S_uQb06HZUGU"
      },
      "execution_count": 7,
      "outputs": []
    },
    {
      "cell_type": "code",
      "source": [
        "schema=StructType([StructField(\"id\",IntegerType(),True),\n",
        "                   StructField(\"gender\",StringType(),True),\n",
        "                   StructField(\"Name\",StringType(),True)])"
      ],
      "metadata": {
        "id": "zgi2LBJSaUc-"
      },
      "execution_count": 9,
      "outputs": []
    },
    {
      "cell_type": "code",
      "source": [
        "df=spark.read.option(\"header\",True).schema(schema).csv(\"/content/MOCK_DATA.csv\")\n",
        "df.show()"
      ],
      "metadata": {
        "colab": {
          "base_uri": "https://localhost:8080/"
        },
        "id": "OBQZ1_6JY0Ap",
        "outputId": "884e4710-3e15-4a4f-a9f6-6e6f36ea7359"
      },
      "execution_count": 41,
      "outputs": [
        {
          "output_type": "stream",
          "name": "stdout",
          "text": [
            "+---+----------+--------------------+\n",
            "| id|    gender|                Name|\n",
            "+---+----------+--------------------+\n",
            "|  1|      Male|     Brion Steckings|\n",
            "|  2|      Male|      Pembroke Cassy|\n",
            "|  3|    Female|       Wylma Ornells|\n",
            "|  4|      Male|   Oberon Plackstone|\n",
            "|  5|      Male|      Jeno Yakuntsov|\n",
            "|  6|    Female|          Melly Gyde|\n",
            "|  7|      Male|    Brant Avrahamoff|\n",
            "|  8|    Female|         Kathie Codd|\n",
            "|  9|  Bigender|        Pen Armstead|\n",
            "| 10|      Male|           Alf Krahl|\n",
            "| 11|Polygender|  Christen Waterhous|\n",
            "| 12|    Female|     Elmira Sheering|\n",
            "| 13|      Male|  Zacharia Mulcaster|\n",
            "| 14|    Female|      Robinet Sanson|\n",
            "| 15|      Male|     Elijah Bachmann|\n",
            "| 16|  Bigender|Bartholomew Rubin...|\n",
            "| 17|    Female|    Verine Vondrasek|\n",
            "| 18|    Female|    Susanna Kennally|\n",
            "| 19|      Male|    Lazarus Bondesen|\n",
            "| 20|    Female|    Christel Vallens|\n",
            "+---+----------+--------------------+\n",
            "only showing top 20 rows\n",
            "\n"
          ]
        }
      ]
    },
    {
      "cell_type": "code",
      "source": [
        "df.printSchema()"
      ],
      "metadata": {
        "colab": {
          "base_uri": "https://localhost:8080/"
        },
        "id": "5MsRW7Uxk-9j",
        "outputId": "4fb0172b-ec6f-4689-daa1-516b63e02233"
      },
      "execution_count": 42,
      "outputs": [
        {
          "output_type": "stream",
          "name": "stdout",
          "text": [
            "root\n",
            " |-- id: integer (nullable = true)\n",
            " |-- gender: string (nullable = true)\n",
            " |-- Name: string (nullable = true)\n",
            "\n"
          ]
        }
      ]
    },
    {
      "cell_type": "code",
      "source": [
        "from pyspark.sql import functions as F\n",
        "df.select(F.max(F.col(\"id\"))).show()"
      ],
      "metadata": {
        "colab": {
          "base_uri": "https://localhost:8080/"
        },
        "id": "Ie5DL3VBeq-D",
        "outputId": "32514c4f-3cf4-4a90-9112-2f2a75252581"
      },
      "execution_count": 43,
      "outputs": [
        {
          "output_type": "stream",
          "name": "stdout",
          "text": [
            "+-------+\n",
            "|max(id)|\n",
            "+-------+\n",
            "|    100|\n",
            "+-------+\n",
            "\n"
          ]
        }
      ]
    },
    {
      "cell_type": "code",
      "source": [
        "Employee_schema=StructType([StructField(\"id\",IntegerType(),True),\n",
        "                            StructField(\"firstname\",StringType(),True),\n",
        "                            StructField(\"lastname\",StringType(),True),\n",
        "                            StructField(\"email\",StringType(),True)])"
      ],
      "metadata": {
        "id": "mY-eue75fzZt"
      },
      "execution_count": 14,
      "outputs": []
    },
    {
      "cell_type": "markdown",
      "source": [
        "Whenever you're specifying external schema, then specify it through schema parameter <b>not</b> option(\"schema\",schema)"
      ],
      "metadata": {
        "id": "gTr-YEQDmISk"
      }
    },
    {
      "cell_type": "code",
      "source": [
        "df2=spark.read.option(\"header\",True).schema(Employee_schema).csv(\"/content/Employee.csv\")\n",
        "df2.show()"
      ],
      "metadata": {
        "colab": {
          "base_uri": "https://localhost:8080/"
        },
        "id": "DmLl6GXWhMJp",
        "outputId": "fe4ea689-297b-4d65-95b7-7c077878c47b"
      },
      "execution_count": 45,
      "outputs": [
        {
          "output_type": "stream",
          "name": "stdout",
          "text": [
            "+---+---------+-----------+--------------------+\n",
            "| id|firstname|   lastname|               email|\n",
            "+---+---------+-----------+--------------------+\n",
            "|  1|Cassandre|    Larkcum|   clarkcum0@tiny.cc|\n",
            "|  2|    Merna|     Philip|mphilip1@histats.com|\n",
            "|  3| Carolann|      Small|csmall2@cargocoll...|\n",
            "|  4|  Valaree|   Reidshaw|vreidshaw3@china....|\n",
            "|  5|     Susy|    Keesman|skeesman4@altervi...|\n",
            "|  6|   Nealon|      Lydon|     nlydon5@ihg.com|\n",
            "|  7|  Ceciley|  Hillborne|chillborne6@fastc...|\n",
            "|  8| Jefferey|Thorneywork|jthorneywork7@pag...|\n",
            "|  9|  Myrtice|    Rossant|mrossant8@edublog...|\n",
            "| 10| Marieann|    Cettell|  mcettell9@ox.ac.uk|\n",
            "| 11|     Mace|   Aronsohn|  maronsohna@msn.com|\n",
            "| 12| Thorsten|   McKeever|tmckeeverb@market...|\n",
            "| 13|   Melesa|Brotheridge|mbrotheridgec@ama...|\n",
            "| 14|   Carney|  Pottiphar|cpottiphard@click...|\n",
            "| 15|Rafaelita|     Keasey|  rkeaseye@google.nl|\n",
            "| 16|    Kelci|    Kyngdon|kkyngdonf@cdbaby.com|\n",
            "| 17|  Harriot|   McNickle|hmcnickleg@chicag...|\n",
            "| 18|    Andie|     Ladlow|aladlowh@webeden....|\n",
            "| 19|     Ella|     Frondt| efrondti@sfgate.com|\n",
            "| 20|  Minerva|      Teaze| mteazej@4shared.com|\n",
            "+---+---------+-----------+--------------------+\n",
            "only showing top 20 rows\n",
            "\n"
          ]
        }
      ]
    },
    {
      "cell_type": "markdown",
      "source": [
        "Join in pyspark"
      ],
      "metadata": {
        "id": "qwnyRjW_jWrh"
      }
    },
    {
      "cell_type": "code",
      "source": [
        "df3=df.join(df2,df.id==df2.id,\"inner\") \\\n",
        ".select(df.id,df.gender,df2.firstname,df2.lastname,df2.email)\n",
        "df3.show(5)"
      ],
      "metadata": {
        "colab": {
          "base_uri": "https://localhost:8080/"
        },
        "id": "tSzpz-NnhwB-",
        "outputId": "40fd7de9-35bb-4bc5-83da-4ff4d933fe5d"
      },
      "execution_count": 47,
      "outputs": [
        {
          "output_type": "stream",
          "name": "stdout",
          "text": [
            "+---+------+---------+--------+--------------------+\n",
            "| id|gender|firstname|lastname|               email|\n",
            "+---+------+---------+--------+--------------------+\n",
            "|  1|  Male|Cassandre| Larkcum|   clarkcum0@tiny.cc|\n",
            "|  2|  Male|    Merna|  Philip|mphilip1@histats.com|\n",
            "|  3|Female| Carolann|   Small|csmall2@cargocoll...|\n",
            "|  4|  Male|  Valaree|Reidshaw|vreidshaw3@china....|\n",
            "|  5|  Male|     Susy| Keesman|skeesman4@altervi...|\n",
            "+---+------+---------+--------+--------------------+\n",
            "only showing top 5 rows\n",
            "\n"
          ]
        }
      ]
    },
    {
      "cell_type": "markdown",
      "source": [
        "Finding out males in datasets"
      ],
      "metadata": {
        "id": "v1UVSa2GkBZG"
      }
    },
    {
      "cell_type": "code",
      "source": [
        "df3.filter(\"gender='Male'\").groupBy().count().show()"
      ],
      "metadata": {
        "colab": {
          "base_uri": "https://localhost:8080/"
        },
        "id": "8IjZMfOgjyk3",
        "outputId": "211af962-d19f-45a7-df56-462d713913a0"
      },
      "execution_count": 48,
      "outputs": [
        {
          "output_type": "stream",
          "name": "stdout",
          "text": [
            "+-----+\n",
            "|count|\n",
            "+-----+\n",
            "|   45|\n",
            "+-----+\n",
            "\n"
          ]
        }
      ]
    },
    {
      "cell_type": "markdown",
      "source": [
        "Getting the counts of employees based on Gender"
      ],
      "metadata": {
        "id": "dBnteKSOkZox"
      }
    },
    {
      "cell_type": "code",
      "source": [
        "df3.groupBy(\"gender\").count().show()"
      ],
      "metadata": {
        "colab": {
          "base_uri": "https://localhost:8080/"
        },
        "id": "8iaGx-_WkFoR",
        "outputId": "05111420-8f6e-4b08-d62b-7bb087add2b1"
      },
      "execution_count": 49,
      "outputs": [
        {
          "output_type": "stream",
          "name": "stdout",
          "text": [
            "+----------+-----+\n",
            "|    gender|count|\n",
            "+----------+-----+\n",
            "|   Agender|    1|\n",
            "|    Female|   48|\n",
            "|Polygender|    2|\n",
            "|  Bigender|    3|\n",
            "|Non-binary|    1|\n",
            "|      Male|   45|\n",
            "+----------+-----+\n",
            "\n"
          ]
        }
      ]
    },
    {
      "cell_type": "code",
      "source": [
        "df3.orderBy(df3.id.asc()).show(20)"
      ],
      "metadata": {
        "colab": {
          "base_uri": "https://localhost:8080/"
        },
        "id": "4YINlcEikgcz",
        "outputId": "5ab870a9-14ed-42a6-9c00-9c669feaba27"
      },
      "execution_count": 50,
      "outputs": [
        {
          "output_type": "stream",
          "name": "stdout",
          "text": [
            "+---+----------+---------+-----------+--------------------+\n",
            "| id|    gender|firstname|   lastname|               email|\n",
            "+---+----------+---------+-----------+--------------------+\n",
            "|  1|      Male|Cassandre|    Larkcum|   clarkcum0@tiny.cc|\n",
            "|  2|      Male|    Merna|     Philip|mphilip1@histats.com|\n",
            "|  3|    Female| Carolann|      Small|csmall2@cargocoll...|\n",
            "|  4|      Male|  Valaree|   Reidshaw|vreidshaw3@china....|\n",
            "|  5|      Male|     Susy|    Keesman|skeesman4@altervi...|\n",
            "|  6|    Female|   Nealon|      Lydon|     nlydon5@ihg.com|\n",
            "|  7|      Male|  Ceciley|  Hillborne|chillborne6@fastc...|\n",
            "|  8|    Female| Jefferey|Thorneywork|jthorneywork7@pag...|\n",
            "|  9|  Bigender|  Myrtice|    Rossant|mrossant8@edublog...|\n",
            "| 10|      Male| Marieann|    Cettell|  mcettell9@ox.ac.uk|\n",
            "| 11|Polygender|     Mace|   Aronsohn|  maronsohna@msn.com|\n",
            "| 12|    Female| Thorsten|   McKeever|tmckeeverb@market...|\n",
            "| 13|      Male|   Melesa|Brotheridge|mbrotheridgec@ama...|\n",
            "| 14|    Female|   Carney|  Pottiphar|cpottiphard@click...|\n",
            "| 15|      Male|Rafaelita|     Keasey|  rkeaseye@google.nl|\n",
            "| 16|  Bigender|    Kelci|    Kyngdon|kkyngdonf@cdbaby.com|\n",
            "| 17|    Female|  Harriot|   McNickle|hmcnickleg@chicag...|\n",
            "| 18|    Female|    Andie|     Ladlow|aladlowh@webeden....|\n",
            "| 19|      Male|     Ella|     Frondt| efrondti@sfgate.com|\n",
            "| 20|    Female|  Minerva|      Teaze| mteazej@4shared.com|\n",
            "+---+----------+---------+-----------+--------------------+\n",
            "only showing top 20 rows\n",
            "\n"
          ]
        }
      ]
    }
  ],
  "metadata": {
    "colab": {
      "name": "Welcome To Colab",
      "provenance": [],
      "include_colab_link": true
    },
    "kernelspec": {
      "display_name": "Python 3",
      "name": "python3"
    }
  },
  "nbformat": 4,
  "nbformat_minor": 0
}