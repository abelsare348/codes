{
  "cells": [
    {
      "cell_type": "markdown",
      "metadata": {
        "id": "view-in-github",
        "colab_type": "text"
      },
      "source": [
        "<a href=\"https://colab.research.google.com/github/abelsare348/codes/blob/pyspark/Pyspark/pyspark.ipynb\" target=\"_parent\"><img src=\"https://colab.research.google.com/assets/colab-badge.svg\" alt=\"Open In Colab\"/></a>"
      ]
    },
    {
      "cell_type": "code",
      "source": [
        "pip install pyspark"
      ],
      "metadata": {
        "id": "JURlKzp0XXGH"
      },
      "execution_count": null,
      "outputs": []
    },
    {
      "cell_type": "code",
      "source": [
        "from pyspark import SparkContext\n",
        "from pyspark.sql import SparkSession\n",
        "spark=SparkSession.builder.appName(\"Spark_Sample\").master(\"local\").getOrCreate()"
      ],
      "metadata": {
        "id": "ktZ4s4rnYLnY"
      },
      "execution_count": 3,
      "outputs": []
    },
    {
      "cell_type": "code",
      "source": [
        "from pyspark.sql.types import StructType,StructField,StringType,IntegerType\n"
      ],
      "metadata": {
        "id": "S_uQb06HZUGU"
      },
      "execution_count": 7,
      "outputs": []
    },
    {
      "cell_type": "code",
      "source": [
        "schema=StructType([StructField(\"id\",IntegerType(),True),\n",
        "                   StructField(\"gender\",StringType(),True),\n",
        "                   StructField(\"Name\",StringType(),True)])"
      ],
      "metadata": {
        "id": "zgi2LBJSaUc-"
      },
      "execution_count": 9,
      "outputs": []
    },
    {
      "cell_type": "code",
      "source": [
        "df=spark.read.option(\"header\",True).option(\"schema\",schema).csv(\"/content/MOCK_DATA.csv\")\n",
        "df.show()"
      ],
      "metadata": {
        "id": "OBQZ1_6JY0Ap",
        "outputId": "e4b51783-7b8c-4c05-8d9f-b1629461b408",
        "colab": {
          "base_uri": "https://localhost:8080/"
        }
      },
      "execution_count": 10,
      "outputs": [
        {
          "output_type": "stream",
          "name": "stdout",
          "text": [
            "+---+----------+--------------------+\n",
            "| id|    gender|                Name|\n",
            "+---+----------+--------------------+\n",
            "|  1|      Male|     Brion Steckings|\n",
            "|  2|      Male|      Pembroke Cassy|\n",
            "|  3|    Female|       Wylma Ornells|\n",
            "|  4|      Male|   Oberon Plackstone|\n",
            "|  5|      Male|      Jeno Yakuntsov|\n",
            "|  6|    Female|          Melly Gyde|\n",
            "|  7|      Male|    Brant Avrahamoff|\n",
            "|  8|    Female|         Kathie Codd|\n",
            "|  9|  Bigender|        Pen Armstead|\n",
            "| 10|      Male|           Alf Krahl|\n",
            "| 11|Polygender|  Christen Waterhous|\n",
            "| 12|    Female|     Elmira Sheering|\n",
            "| 13|      Male|  Zacharia Mulcaster|\n",
            "| 14|    Female|      Robinet Sanson|\n",
            "| 15|      Male|     Elijah Bachmann|\n",
            "| 16|  Bigender|Bartholomew Rubin...|\n",
            "| 17|    Female|    Verine Vondrasek|\n",
            "| 18|    Female|    Susanna Kennally|\n",
            "| 19|      Male|    Lazarus Bondesen|\n",
            "| 20|    Female|    Christel Vallens|\n",
            "+---+----------+--------------------+\n",
            "only showing top 20 rows\n",
            "\n"
          ]
        }
      ]
    }
  ],
  "metadata": {
    "colab": {
      "name": "Welcome To Colab",
      "toc_visible": true,
      "provenance": [],
      "include_colab_link": true
    },
    "kernelspec": {
      "display_name": "Python 3",
      "name": "python3"
    }
  },
  "nbformat": 4,
  "nbformat_minor": 0
}