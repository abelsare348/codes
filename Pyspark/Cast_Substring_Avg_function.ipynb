{
  "cells": [
    {
      "cell_type": "markdown",
      "metadata": {
        "id": "view-in-github",
        "colab_type": "text"
      },
      "source": [
        "<a href=\"https://colab.research.google.com/github/abelsare348/codes/blob/pyspark/Pyspark/Cast_Substring_Avg_function.ipynb\" target=\"_parent\"><img src=\"https://colab.research.google.com/assets/colab-badge.svg\" alt=\"Open In Colab\"/></a>"
      ]
    },
    {
      "cell_type": "code",
      "source": [
        "from pyspark import SparkContext\n",
        "from pyspark.sql import SparkSession"
      ],
      "metadata": {
        "id": "TmdDn27IeQRD"
      },
      "execution_count": 4,
      "outputs": []
    },
    {
      "cell_type": "code",
      "source": [
        "from pyspark.sql.types import StructType,StructField,IntegerType,StringType,FloatType"
      ],
      "metadata": {
        "id": "IhgUYbCJeXpM"
      },
      "execution_count": 64,
      "outputs": []
    },
    {
      "cell_type": "code",
      "source": [
        "spark=SparkSession.builder.appName(\"spark_app\").master(\"local\").getOrCreate()"
      ],
      "metadata": {
        "id": "s_3cXebof66O"
      },
      "execution_count": 8,
      "outputs": []
    },
    {
      "cell_type": "code",
      "source": [
        "Employee_Schema=StructType([StructField(\"id\",IntegerType(),True),\n",
        "                            StructField(\"first_name\",StringType(),True),\n",
        "                            StructField(\"last_name\",StringType(),True),\n",
        "                            StructField(\"gender\",StringType(),True)])"
      ],
      "metadata": {
        "id": "AKYGTaHue7fR"
      },
      "execution_count": 6,
      "outputs": []
    },
    {
      "cell_type": "code",
      "source": [
        "Employee_df=spark.read.schema(Employee_Schema).option(\"header\",True).csv(\"/content/Employee.csv\")"
      ],
      "metadata": {
        "id": "-k1xmq2ofkzc"
      },
      "execution_count": 81,
      "outputs": []
    },
    {
      "cell_type": "code",
      "source": [
        "Employee_df.show(5)"
      ],
      "metadata": {
        "colab": {
          "base_uri": "https://localhost:8080/"
        },
        "id": "E11p3j3igRnM",
        "outputId": "6dd888d7-860c-46b9-cc46-23b69fad1d90"
      },
      "execution_count": 20,
      "outputs": [
        {
          "output_type": "stream",
          "name": "stdout",
          "text": [
            "+---+----------+----------+------+\n",
            "| id|first_name| last_name|gender|\n",
            "+---+----------+----------+------+\n",
            "|  1|     Moise|    Coveny|  Male|\n",
            "|  2|  Claudius|Wickersham|  Male|\n",
            "|  3|     Mateo|   Redmond|  Male|\n",
            "|  4|    Finlay|     Salla|  Male|\n",
            "|  5|   Rudyard| Brockbank|  Male|\n",
            "+---+----------+----------+------+\n",
            "only showing top 5 rows\n",
            "\n"
          ]
        }
      ]
    },
    {
      "cell_type": "code",
      "source": [
        "Employee_df.printSchema()"
      ],
      "metadata": {
        "colab": {
          "base_uri": "https://localhost:8080/"
        },
        "id": "bD7OCWECgx7B",
        "outputId": "bb6e9c0f-7984-4ab5-f9b6-738ec259c9fd"
      },
      "execution_count": 21,
      "outputs": [
        {
          "output_type": "stream",
          "name": "stdout",
          "text": [
            "root\n",
            " |-- id: integer (nullable = true)\n",
            " |-- first_name: string (nullable = true)\n",
            " |-- last_name: string (nullable = true)\n",
            " |-- gender: string (nullable = true)\n",
            "\n"
          ]
        }
      ]
    },
    {
      "cell_type": "code",
      "source": [
        "Employee_Address_Schema=StructType([StructField(\"id\",IntegerType(),True),\n",
        "                                    StructField(\"email\",StringType(),True),\n",
        "                                    StructField(\"ip_address\",StringType(),True)])"
      ],
      "metadata": {
        "id": "WcNsigdlhDn0"
      },
      "execution_count": 22,
      "outputs": []
    },
    {
      "cell_type": "code",
      "source": [
        "Employee_Address_df=spark.read.schema(Employee_Address_Schema).option(\"header\",True).csv(\"/content/Employee_Address.csv\")\n",
        "Employee_Address_df.show(10)\n"
      ],
      "metadata": {
        "colab": {
          "base_uri": "https://localhost:8080/"
        },
        "id": "cnyxjI8uia9u",
        "outputId": "3fb19c56-7356-4cc7-9d58-86729099510f"
      },
      "execution_count": 24,
      "outputs": [
        {
          "output_type": "stream",
          "name": "stdout",
          "text": [
            "+---+--------------------+---------------+\n",
            "| id|               email|     ip_address|\n",
            "+---+--------------------+---------------+\n",
            "|  1|swinterburn0@dail...|   34.78.27.108|\n",
            "|  2|aarnaldo1@eepurl.com| 190.52.131.147|\n",
            "|  3|    dbuzek2@1688.com| 152.198.169.97|\n",
            "|  4| sduffyn3@tumblr.com| 10.233.235.146|\n",
            "|  5|   mmeeke4@jigsy.com|    59.27.18.36|\n",
            "|  6|prosenblath5@live...|   12.66.142.55|\n",
            "|  7|   bbuddle6@yale.edu| 58.191.128.163|\n",
            "|  8|slindeberg7@topli...|  180.250.88.89|\n",
            "|  9|ltwiddell8@zdnet.com|212.122.136.101|\n",
            "| 10|  fgiberd9@prweb.com|   18.6.137.101|\n",
            "+---+--------------------+---------------+\n",
            "only showing top 10 rows\n",
            "\n"
          ]
        }
      ]
    },
    {
      "cell_type": "code",
      "source": [
        "Employee_Address_df.printSchema()"
      ],
      "metadata": {
        "colab": {
          "base_uri": "https://localhost:8080/"
        },
        "id": "-aNLF7MViyw-",
        "outputId": "7871899c-fabe-44d9-a959-37ab41c554b4"
      },
      "execution_count": 25,
      "outputs": [
        {
          "output_type": "stream",
          "name": "stdout",
          "text": [
            "root\n",
            " |-- id: integer (nullable = true)\n",
            " |-- email: string (nullable = true)\n",
            " |-- ip_address: string (nullable = true)\n",
            "\n"
          ]
        }
      ]
    },
    {
      "cell_type": "markdown",
      "source": [
        "Cast Keyword"
      ],
      "metadata": {
        "id": "JznxlvEjwAdT"
      }
    },
    {
      "cell_type": "code",
      "source": [
        "Employee_Address_df.withColumn(\"id\",F.col(\"id\").cast(FloatType())).show()"
      ],
      "metadata": {
        "id": "PLGsGK9Muabc",
        "outputId": "a45ce04b-bcec-4099-9461-20fe56ab54d0",
        "colab": {
          "base_uri": "https://localhost:8080/"
        }
      },
      "execution_count": 67,
      "outputs": [
        {
          "output_type": "stream",
          "name": "stdout",
          "text": [
            "+----+--------------------+---------------+\n",
            "|  id|               email|     ip_address|\n",
            "+----+--------------------+---------------+\n",
            "| 1.0|swinterburn0@dail...|   34.78.27.108|\n",
            "| 2.0|aarnaldo1@eepurl.com| 190.52.131.147|\n",
            "| 3.0|    dbuzek2@1688.com| 152.198.169.97|\n",
            "| 4.0| sduffyn3@tumblr.com| 10.233.235.146|\n",
            "| 5.0|   mmeeke4@jigsy.com|    59.27.18.36|\n",
            "| 6.0|prosenblath5@live...|   12.66.142.55|\n",
            "| 7.0|   bbuddle6@yale.edu| 58.191.128.163|\n",
            "| 8.0|slindeberg7@topli...|  180.250.88.89|\n",
            "| 9.0|ltwiddell8@zdnet.com|212.122.136.101|\n",
            "|10.0|  fgiberd9@prweb.com|   18.6.137.101|\n",
            "|11.0|fbremmera@springe...| 31.136.129.115|\n",
            "|12.0|mlosemannb@wordpr...|   70.77.28.176|\n",
            "|13.0|bruslenc@howstuff...|   53.173.28.28|\n",
            "|14.0|byanceyd@vkontakt...| 249.180.94.200|\n",
            "|15.0|lbigadikee@weathe...|  84.221.41.155|\n",
            "|16.0|dwillmettsf@opera...| 66.107.103.162|\n",
            "|17.0|asnyderg@domainma...| 148.137.122.44|\n",
            "|18.0|gstirlandh@meetup...| 220.248.198.80|\n",
            "|19.0|qgetteni@livejour...|  31.171.134.25|\n",
            "|20.0|ipridittj@shop-pr...|135.247.148.136|\n",
            "+----+--------------------+---------------+\n",
            "only showing top 20 rows\n",
            "\n"
          ]
        }
      ]
    },
    {
      "cell_type": "markdown",
      "source": [
        "countDistinct - a function in pyspark which will give count based on distinct values of column specified."
      ],
      "metadata": {
        "id": "V2z4eYX1wlv5"
      }
    },
    {
      "cell_type": "code",
      "source": [
        "Employee_df.select(F.countDistinct(\"first_name\")).show()"
      ],
      "metadata": {
        "id": "KPT7D3VfwNY7",
        "outputId": "b9edd1a1-253c-4e77-a7fe-9e4a1b4b6e3a",
        "colab": {
          "base_uri": "https://localhost:8080/"
        }
      },
      "execution_count": 69,
      "outputs": [
        {
          "output_type": "stream",
          "name": "stdout",
          "text": [
            "+-----------------+\n",
            "|count(first_name)|\n",
            "+-----------------+\n",
            "|              100|\n",
            "+-----------------+\n",
            "\n"
          ]
        }
      ]
    },
    {
      "cell_type": "markdown",
      "source": [
        "Substring Function"
      ],
      "metadata": {
        "id": "mVNqt3uVxA7w"
      }
    },
    {
      "cell_type": "code",
      "source": [
        "Employee_df.withColumn(\"substring_col\",F.substring(F.col(\"first_name\"),0,2)).show(5)"
      ],
      "metadata": {
        "id": "V0g_e2cVw_tI",
        "outputId": "63fa8e82-b2ea-4909-be8b-a16086d2ecf7",
        "colab": {
          "base_uri": "https://localhost:8080/"
        }
      },
      "execution_count": 73,
      "outputs": [
        {
          "output_type": "stream",
          "name": "stdout",
          "text": [
            "+---+----------+----------+------+-------------+\n",
            "| id|first_name| last_name|gender|substring_col|\n",
            "+---+----------+----------+------+-------------+\n",
            "|  1|     Moise|    Coveny|  Male|           Mo|\n",
            "|  2|  Claudius|Wickersham|  Male|           Cl|\n",
            "|  3|     Mateo|   Redmond|  Male|           Ma|\n",
            "|  4|    Finlay|     Salla|  Male|           Fi|\n",
            "|  5|   Rudyard| Brockbank|  Male|           Ru|\n",
            "+---+----------+----------+------+-------------+\n",
            "only showing top 5 rows\n",
            "\n"
          ]
        }
      ]
    },
    {
      "cell_type": "code",
      "source": [
        "Employee_df=Employee_df.withColumn(\"Salary\",F.when(F.col(\"gender\")=='Male',50000).when(F.col(\"gender\")=='Female',40000).otherwise(30000))"
      ],
      "metadata": {
        "id": "d9NUik9qzXyx"
      },
      "execution_count": 83,
      "outputs": []
    },
    {
      "cell_type": "code",
      "source": [
        "Employee_df.show()"
      ],
      "metadata": {
        "id": "Je8xATNb1CPO",
        "outputId": "e3e3ef99-04b2-41cf-b715-d25edd7a72b3",
        "colab": {
          "base_uri": "https://localhost:8080/"
        }
      },
      "execution_count": 84,
      "outputs": [
        {
          "output_type": "stream",
          "name": "stdout",
          "text": [
            "+---+----------+-----------+------+------+\n",
            "| id|first_name|  last_name|gender|Salary|\n",
            "+---+----------+-----------+------+------+\n",
            "|  1|     Moise|     Coveny|  Male| 50000|\n",
            "|  2|  Claudius| Wickersham|  Male| 50000|\n",
            "|  3|     Mateo|    Redmond|  Male| 50000|\n",
            "|  4|    Finlay|      Salla|  Male| 50000|\n",
            "|  5|   Rudyard|  Brockbank|  Male| 50000|\n",
            "|  6|    Joanie|    Kembley|Female| 40000|\n",
            "|  7|      Zane|  Cahillane|  Male| 50000|\n",
            "|  8|    Davida|   Doubrava|Female| 40000|\n",
            "|  9|    Anjela|     Wackly|Female| 40000|\n",
            "| 10|       Ari| Larkworthy|  Male| 50000|\n",
            "| 11|    Elmira| Goldthorpe|Female| 40000|\n",
            "| 12|   Maynard|     Ponten|  Male| 50000|\n",
            "| 13|       Dom|   Dallaway|  Male| 50000|\n",
            "| 14|      Dene|Philliskirk|  Male| 50000|\n",
            "| 15|   Phillip|    Tillard|  Male| 50000|\n",
            "| 16|     Tommy|   Blackway|  Male| 50000|\n",
            "| 17|      Wren|     Geator|Female| 40000|\n",
            "| 18|  Caroline|    Daubney|Female| 40000|\n",
            "| 19|Margarethe|    Tollett|Female| 40000|\n",
            "| 20|      Sula|  Pitkethly|Female| 40000|\n",
            "+---+----------+-----------+------+------+\n",
            "only showing top 20 rows\n",
            "\n"
          ]
        }
      ]
    },
    {
      "cell_type": "markdown",
      "source": [
        "Avg Function"
      ],
      "metadata": {
        "id": "RIVkH9VT3Jje"
      }
    },
    {
      "cell_type": "code",
      "source": [
        "Employee_df.select(F.avg(\"salary\")).show()"
      ],
      "metadata": {
        "id": "6E6FDSCu1dSB",
        "outputId": "c759deaa-2d6b-4728-b3d0-40f78dbb0729",
        "colab": {
          "base_uri": "https://localhost:8080/"
        }
      },
      "execution_count": 93,
      "outputs": [
        {
          "output_type": "stream",
          "name": "stdout",
          "text": [
            "+-----------+\n",
            "|avg(salary)|\n",
            "+-----------+\n",
            "|    44700.0|\n",
            "+-----------+\n",
            "\n"
          ]
        }
      ]
    }
  ],
  "metadata": {
    "colab": {
      "name": "Welcome To Colab",
      "provenance": [],
      "include_colab_link": true
    },
    "kernelspec": {
      "display_name": "Python 3",
      "name": "python3"
    }
  },
  "nbformat": 4,
  "nbformat_minor": 0
}