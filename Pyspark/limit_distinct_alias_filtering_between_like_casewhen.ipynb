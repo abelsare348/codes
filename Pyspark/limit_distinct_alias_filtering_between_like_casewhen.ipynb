{
  "cells": [
    {
      "cell_type": "markdown",
      "metadata": {
        "id": "view-in-github",
        "colab_type": "text"
      },
      "source": [
        "<a href=\"https://colab.research.google.com/github/abelsare348/codes/blob/pyspark/Pyspark/limit_distinct_alias_filtering_between_like_casewhen.ipynb\" target=\"_parent\"><img src=\"https://colab.research.google.com/assets/colab-badge.svg\" alt=\"Open In Colab\"/></a>"
      ]
    },
    {
      "cell_type": "code",
      "source": [
        "from pyspark import SparkContext\n",
        "from pyspark.sql import SparkSession"
      ],
      "metadata": {
        "id": "TmdDn27IeQRD"
      },
      "execution_count": 4,
      "outputs": []
    },
    {
      "cell_type": "code",
      "source": [
        "from pyspark.sql.types import StructType,StructField,IntegerType,StringType"
      ],
      "metadata": {
        "id": "IhgUYbCJeXpM"
      },
      "execution_count": 5,
      "outputs": []
    },
    {
      "cell_type": "code",
      "source": [
        "spark=SparkSession.builder.appName(\"spark_app\").master(\"local\").getOrCreate()"
      ],
      "metadata": {
        "id": "s_3cXebof66O"
      },
      "execution_count": 8,
      "outputs": []
    },
    {
      "cell_type": "code",
      "source": [
        "Employee_Schema=StructType([StructField(\"id\",IntegerType(),True),\n",
        "                            StructField(\"first_name\",StringType(),True),\n",
        "                            StructField(\"last_name\",StringType(),True),\n",
        "                            StructField(\"gender\",StringType(),True)])"
      ],
      "metadata": {
        "id": "AKYGTaHue7fR"
      },
      "execution_count": 6,
      "outputs": []
    },
    {
      "cell_type": "code",
      "source": [
        "Employee_df=spark.read.schema(Employee_Schema).option(\"header\",True).csv(\"/content/Employee.csv\")"
      ],
      "metadata": {
        "id": "-k1xmq2ofkzc"
      },
      "execution_count": 18,
      "outputs": []
    },
    {
      "cell_type": "code",
      "source": [
        "Employee_df.show(5)"
      ],
      "metadata": {
        "colab": {
          "base_uri": "https://localhost:8080/"
        },
        "id": "E11p3j3igRnM",
        "outputId": "6dd888d7-860c-46b9-cc46-23b69fad1d90"
      },
      "execution_count": 20,
      "outputs": [
        {
          "output_type": "stream",
          "name": "stdout",
          "text": [
            "+---+----------+----------+------+\n",
            "| id|first_name| last_name|gender|\n",
            "+---+----------+----------+------+\n",
            "|  1|     Moise|    Coveny|  Male|\n",
            "|  2|  Claudius|Wickersham|  Male|\n",
            "|  3|     Mateo|   Redmond|  Male|\n",
            "|  4|    Finlay|     Salla|  Male|\n",
            "|  5|   Rudyard| Brockbank|  Male|\n",
            "+---+----------+----------+------+\n",
            "only showing top 5 rows\n",
            "\n"
          ]
        }
      ]
    },
    {
      "cell_type": "code",
      "source": [
        "Employee_df.printSchema()"
      ],
      "metadata": {
        "colab": {
          "base_uri": "https://localhost:8080/"
        },
        "id": "bD7OCWECgx7B",
        "outputId": "bb6e9c0f-7984-4ab5-f9b6-738ec259c9fd"
      },
      "execution_count": 21,
      "outputs": [
        {
          "output_type": "stream",
          "name": "stdout",
          "text": [
            "root\n",
            " |-- id: integer (nullable = true)\n",
            " |-- first_name: string (nullable = true)\n",
            " |-- last_name: string (nullable = true)\n",
            " |-- gender: string (nullable = true)\n",
            "\n"
          ]
        }
      ]
    },
    {
      "cell_type": "code",
      "source": [
        "Employee_Address_Schema=StructType([StructField(\"id\",IntegerType(),True),\n",
        "                                    StructField(\"email\",StringType(),True),\n",
        "                                    StructField(\"ip_address\",StringType(),True)])"
      ],
      "metadata": {
        "id": "WcNsigdlhDn0"
      },
      "execution_count": 22,
      "outputs": []
    },
    {
      "cell_type": "code",
      "source": [
        "Employee_Address_df=spark.read.schema(Employee_Address_Schema).option(\"header\",True).csv(\"/content/Employee_Address.csv\")\n",
        "Employee_Address_df.show(10)\n"
      ],
      "metadata": {
        "colab": {
          "base_uri": "https://localhost:8080/"
        },
        "id": "cnyxjI8uia9u",
        "outputId": "3fb19c56-7356-4cc7-9d58-86729099510f"
      },
      "execution_count": 24,
      "outputs": [
        {
          "output_type": "stream",
          "name": "stdout",
          "text": [
            "+---+--------------------+---------------+\n",
            "| id|               email|     ip_address|\n",
            "+---+--------------------+---------------+\n",
            "|  1|swinterburn0@dail...|   34.78.27.108|\n",
            "|  2|aarnaldo1@eepurl.com| 190.52.131.147|\n",
            "|  3|    dbuzek2@1688.com| 152.198.169.97|\n",
            "|  4| sduffyn3@tumblr.com| 10.233.235.146|\n",
            "|  5|   mmeeke4@jigsy.com|    59.27.18.36|\n",
            "|  6|prosenblath5@live...|   12.66.142.55|\n",
            "|  7|   bbuddle6@yale.edu| 58.191.128.163|\n",
            "|  8|slindeberg7@topli...|  180.250.88.89|\n",
            "|  9|ltwiddell8@zdnet.com|212.122.136.101|\n",
            "| 10|  fgiberd9@prweb.com|   18.6.137.101|\n",
            "+---+--------------------+---------------+\n",
            "only showing top 10 rows\n",
            "\n"
          ]
        }
      ]
    },
    {
      "cell_type": "code",
      "source": [
        "Employee_Address_df.printSchema()"
      ],
      "metadata": {
        "colab": {
          "base_uri": "https://localhost:8080/"
        },
        "id": "-aNLF7MViyw-",
        "outputId": "7871899c-fabe-44d9-a959-37ab41c554b4"
      },
      "execution_count": 25,
      "outputs": [
        {
          "output_type": "stream",
          "name": "stdout",
          "text": [
            "root\n",
            " |-- id: integer (nullable = true)\n",
            " |-- email: string (nullable = true)\n",
            " |-- ip_address: string (nullable = true)\n",
            "\n"
          ]
        }
      ]
    },
    {
      "cell_type": "markdown",
      "source": [
        "Union Keyword"
      ],
      "metadata": {
        "id": "88tp9ActjsyS"
      }
    },
    {
      "cell_type": "code",
      "source": [
        "male_df=Employee_df.filter(\"gender='Male'\")"
      ],
      "metadata": {
        "id": "ZyZ6nYLyjr6P"
      },
      "execution_count": 29,
      "outputs": []
    },
    {
      "cell_type": "code",
      "source": [
        "female_df=Employee_df.filter(\"gender='Female'\")"
      ],
      "metadata": {
        "id": "jVTBcTGnkbuI"
      },
      "execution_count": 31,
      "outputs": []
    },
    {
      "cell_type": "code",
      "source": [
        "unisex_df=male_df.union(female_df)"
      ],
      "metadata": {
        "id": "lEPoRm_ektKh"
      },
      "execution_count": 33,
      "outputs": []
    },
    {
      "cell_type": "code",
      "source": [
        "unisex_df.take(10)"
      ],
      "metadata": {
        "id": "ZGzBx9a8k5TY",
        "outputId": "82f2e9bb-3329-407a-a927-85a41d1822ce",
        "colab": {
          "base_uri": "https://localhost:8080/"
        }
      },
      "execution_count": 38,
      "outputs": [
        {
          "output_type": "execute_result",
          "data": {
            "text/plain": [
              "[Row(id=1, first_name='Moise', last_name='Coveny', gender='Male'),\n",
              " Row(id=2, first_name='Claudius', last_name='Wickersham', gender='Male'),\n",
              " Row(id=3, first_name='Mateo', last_name='Redmond', gender='Male'),\n",
              " Row(id=4, first_name='Finlay', last_name='Salla', gender='Male'),\n",
              " Row(id=5, first_name='Rudyard', last_name='Brockbank', gender='Male'),\n",
              " Row(id=7, first_name='Zane', last_name='Cahillane', gender='Male'),\n",
              " Row(id=10, first_name='Ari', last_name='Larkworthy', gender='Male'),\n",
              " Row(id=12, first_name='Maynard', last_name='Ponten', gender='Male'),\n",
              " Row(id=13, first_name='Dom', last_name='Dallaway', gender='Male'),\n",
              " Row(id=14, first_name='Dene', last_name='Philliskirk', gender='Male')]"
            ]
          },
          "metadata": {},
          "execution_count": 38
        }
      ]
    },
    {
      "cell_type": "markdown",
      "source": [
        "Limit Keyword"
      ],
      "metadata": {
        "id": "FXxwJ_avmha6"
      }
    },
    {
      "cell_type": "code",
      "source": [
        "Employee_df.limit(10).show()"
      ],
      "metadata": {
        "id": "4xeeXLiemg-e",
        "outputId": "72b20711-0c09-45f2-c701-6690e4cf5858",
        "colab": {
          "base_uri": "https://localhost:8080/"
        }
      },
      "execution_count": 40,
      "outputs": [
        {
          "output_type": "stream",
          "name": "stdout",
          "text": [
            "+---+----------+----------+------+\n",
            "| id|first_name| last_name|gender|\n",
            "+---+----------+----------+------+\n",
            "|  1|     Moise|    Coveny|  Male|\n",
            "|  2|  Claudius|Wickersham|  Male|\n",
            "|  3|     Mateo|   Redmond|  Male|\n",
            "|  4|    Finlay|     Salla|  Male|\n",
            "|  5|   Rudyard| Brockbank|  Male|\n",
            "|  6|    Joanie|   Kembley|Female|\n",
            "|  7|      Zane| Cahillane|  Male|\n",
            "|  8|    Davida|  Doubrava|Female|\n",
            "|  9|    Anjela|    Wackly|Female|\n",
            "| 10|       Ari|Larkworthy|  Male|\n",
            "+---+----------+----------+------+\n",
            "\n"
          ]
        }
      ]
    },
    {
      "cell_type": "markdown",
      "source": [
        "Distinct Keyword"
      ],
      "metadata": {
        "id": "lRYs24AQmrAG"
      }
    },
    {
      "cell_type": "code",
      "source": [
        "Employee_df.select(\"gender\",\"first_name\").distinct().show(5)"
      ],
      "metadata": {
        "id": "Zv_rFgBcmquh",
        "outputId": "9d869e81-66b9-4c8c-bcd4-f2918c7412ad",
        "colab": {
          "base_uri": "https://localhost:8080/"
        }
      },
      "execution_count": 43,
      "outputs": [
        {
          "output_type": "stream",
          "name": "stdout",
          "text": [
            "+------+----------+\n",
            "|gender|first_name|\n",
            "+------+----------+\n",
            "|  Male|     Tommy|\n",
            "|Female|  Hilliary|\n",
            "|Female|  Shaylynn|\n",
            "|  Male|   Vincenz|\n",
            "|  Male|     Olvan|\n",
            "+------+----------+\n",
            "only showing top 5 rows\n",
            "\n"
          ]
        }
      ]
    },
    {
      "cell_type": "code",
      "source": [
        "alias keyword"
      ],
      "metadata": {
        "id": "9kOTuSS3onLw"
      },
      "execution_count": null,
      "outputs": []
    },
    {
      "cell_type": "code",
      "source": [
        "from pyspark.sql import functions as F"
      ],
      "metadata": {
        "id": "3X6HpkYQoLRQ"
      },
      "execution_count": 45,
      "outputs": []
    },
    {
      "cell_type": "code",
      "source": [
        "\n",
        "Employee_df.select(F.col(\"first_name\").alias(\"FName\"),F.col(\"last_name\").alias(\"LName\")).show(5)"
      ],
      "metadata": {
        "id": "hlWplSeonf21",
        "outputId": "754d8f1b-3735-40d2-d5ed-f36748d9c04a",
        "colab": {
          "base_uri": "https://localhost:8080/"
        }
      },
      "execution_count": 47,
      "outputs": [
        {
          "output_type": "stream",
          "name": "stdout",
          "text": [
            "+--------+----------+\n",
            "|   FName|     LName|\n",
            "+--------+----------+\n",
            "|   Moise|    Coveny|\n",
            "|Claudius|Wickersham|\n",
            "|   Mateo|   Redmond|\n",
            "|  Finlay|     Salla|\n",
            "| Rudyard| Brockbank|\n",
            "+--------+----------+\n",
            "only showing top 5 rows\n",
            "\n"
          ]
        }
      ]
    },
    {
      "cell_type": "markdown",
      "source": [
        "Filtering on multiple condition"
      ],
      "metadata": {
        "id": "4D-UFzNipBQJ"
      }
    },
    {
      "cell_type": "code",
      "source": [
        "Employee_df.filter(\"gender='Male' and id<20 and id>10\").show()"
      ],
      "metadata": {
        "id": "UtUS1vE9oqVc",
        "outputId": "983fea28-b240-4c07-9893-007266bb80e8",
        "colab": {
          "base_uri": "https://localhost:8080/"
        }
      },
      "execution_count": 49,
      "outputs": [
        {
          "output_type": "stream",
          "name": "stdout",
          "text": [
            "+---+----------+-----------+------+\n",
            "| id|first_name|  last_name|gender|\n",
            "+---+----------+-----------+------+\n",
            "| 12|   Maynard|     Ponten|  Male|\n",
            "| 13|       Dom|   Dallaway|  Male|\n",
            "| 14|      Dene|Philliskirk|  Male|\n",
            "| 15|   Phillip|    Tillard|  Male|\n",
            "| 16|     Tommy|   Blackway|  Male|\n",
            "+---+----------+-----------+------+\n",
            "\n"
          ]
        }
      ]
    },
    {
      "cell_type": "markdown",
      "source": [
        "between keyword"
      ],
      "metadata": {
        "id": "b-_Ly7dep2lS"
      }
    },
    {
      "cell_type": "code",
      "source": [
        "Employee_df.filter(F.col(\"id\").between(1,50)).show()"
      ],
      "metadata": {
        "id": "JHw5lN0hpWw1",
        "outputId": "ae876c74-f9ac-4fa3-b3f1-764132fbdf51",
        "colab": {
          "base_uri": "https://localhost:8080/"
        }
      },
      "execution_count": 51,
      "outputs": [
        {
          "output_type": "stream",
          "name": "stdout",
          "text": [
            "+---+----------+-----------+------+\n",
            "| id|first_name|  last_name|gender|\n",
            "+---+----------+-----------+------+\n",
            "|  1|     Moise|     Coveny|  Male|\n",
            "|  2|  Claudius| Wickersham|  Male|\n",
            "|  3|     Mateo|    Redmond|  Male|\n",
            "|  4|    Finlay|      Salla|  Male|\n",
            "|  5|   Rudyard|  Brockbank|  Male|\n",
            "|  6|    Joanie|    Kembley|Female|\n",
            "|  7|      Zane|  Cahillane|  Male|\n",
            "|  8|    Davida|   Doubrava|Female|\n",
            "|  9|    Anjela|     Wackly|Female|\n",
            "| 10|       Ari| Larkworthy|  Male|\n",
            "| 11|    Elmira| Goldthorpe|Female|\n",
            "| 12|   Maynard|     Ponten|  Male|\n",
            "| 13|       Dom|   Dallaway|  Male|\n",
            "| 14|      Dene|Philliskirk|  Male|\n",
            "| 15|   Phillip|    Tillard|  Male|\n",
            "| 16|     Tommy|   Blackway|  Male|\n",
            "| 17|      Wren|     Geator|Female|\n",
            "| 18|  Caroline|    Daubney|Female|\n",
            "| 19|Margarethe|    Tollett|Female|\n",
            "| 20|      Sula|  Pitkethly|Female|\n",
            "+---+----------+-----------+------+\n",
            "only showing top 20 rows\n",
            "\n"
          ]
        }
      ]
    },
    {
      "cell_type": "code",
      "source": [
        "Employee_Address_df.select(\"email\").distinct().show(5)"
      ],
      "metadata": {
        "id": "py41zDqGrC_B",
        "outputId": "8289415e-282e-4a8a-a9fc-f60fe9d0abdf",
        "colab": {
          "base_uri": "https://localhost:8080/"
        }
      },
      "execution_count": 54,
      "outputs": [
        {
          "output_type": "stream",
          "name": "stdout",
          "text": [
            "+--------------------+\n",
            "|               email|\n",
            "+--------------------+\n",
            "|ageroldo1v@arizon...|\n",
            "|llidden1i@newsvin...|\n",
            "|cloines2r@domainm...|\n",
            "|rtitt2l@amazon.co.jp|\n",
            "|vfahrenbachy@mash...|\n",
            "+--------------------+\n",
            "only showing top 5 rows\n",
            "\n"
          ]
        }
      ]
    },
    {
      "cell_type": "markdown",
      "source": [
        "Like Keyword"
      ],
      "metadata": {
        "id": "j0kgIRVRrZaG"
      }
    },
    {
      "cell_type": "code",
      "source": [
        "Employee_Address_df.filter(F.col(\"email\").like(\"%@amazon.co.jp\")).show()"
      ],
      "metadata": {
        "id": "rHYgl3svqRez",
        "outputId": "510c34e3-b061-41e2-c0b4-c06e47af5f4b",
        "colab": {
          "base_uri": "https://localhost:8080/"
        }
      },
      "execution_count": 55,
      "outputs": [
        {
          "output_type": "stream",
          "name": "stdout",
          "text": [
            "+---+--------------------+--------------+\n",
            "| id|               email|    ip_address|\n",
            "+---+--------------------+--------------+\n",
            "| 94|rtitt2l@amazon.co.jp|160.219.21.134|\n",
            "+---+--------------------+--------------+\n",
            "\n"
          ]
        }
      ]
    },
    {
      "cell_type": "markdown",
      "source": [
        "Case when in pyspark"
      ],
      "metadata": {
        "id": "mhBr462Ass8V"
      }
    },
    {
      "cell_type": "code",
      "source": [
        "Employee_df.withColumn(\"Priority\",F.when(F.col(\"id\").between(1,30),\"High\").when(F.col(\"id\").between(31,60),\"Mid\").otherwise(\"Low\")).show(5)"
      ],
      "metadata": {
        "id": "pX1Dlwxnrc_D",
        "outputId": "5c74ebaa-f8fd-41c7-8905-8d487608075e",
        "colab": {
          "base_uri": "https://localhost:8080/"
        }
      },
      "execution_count": 60,
      "outputs": [
        {
          "output_type": "stream",
          "name": "stdout",
          "text": [
            "+---+----------+----------+------+--------+\n",
            "| id|first_name| last_name|gender|Priority|\n",
            "+---+----------+----------+------+--------+\n",
            "|  1|     Moise|    Coveny|  Male|    High|\n",
            "|  2|  Claudius|Wickersham|  Male|    High|\n",
            "|  3|     Mateo|   Redmond|  Male|    High|\n",
            "|  4|    Finlay|     Salla|  Male|    High|\n",
            "|  5|   Rudyard| Brockbank|  Male|    High|\n",
            "+---+----------+----------+------+--------+\n",
            "only showing top 5 rows\n",
            "\n"
          ]
        }
      ]
    }
  ],
  "metadata": {
    "colab": {
      "name": "Welcome To Colab",
      "provenance": [],
      "include_colab_link": true
    },
    "kernelspec": {
      "display_name": "Python 3",
      "name": "python3"
    }
  },
  "nbformat": 4,
  "nbformat_minor": 0
}