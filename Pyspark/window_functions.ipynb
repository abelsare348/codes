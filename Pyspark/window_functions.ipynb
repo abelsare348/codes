{
  "cells": [
    {
      "cell_type": "markdown",
      "metadata": {
        "id": "view-in-github",
        "colab_type": "text"
      },
      "source": [
        "<a href=\"https://colab.research.google.com/github/abelsare348/codes/blob/pyspark/Pyspark/window_functions.ipynb\" target=\"_parent\"><img src=\"https://colab.research.google.com/assets/colab-badge.svg\" alt=\"Open In Colab\"/></a>"
      ]
    },
    {
      "cell_type": "code",
      "source": [
        "pip install pyspark"
      ],
      "metadata": {
        "id": "pz84EPmEBVxy",
        "outputId": "bc6e3a5d-d403-483d-bb33-bb54217bdda3",
        "colab": {
          "base_uri": "https://localhost:8080/"
        }
      },
      "execution_count": 1,
      "outputs": [
        {
          "output_type": "stream",
          "name": "stdout",
          "text": [
            "Collecting pyspark\n",
            "  Downloading pyspark-3.5.3.tar.gz (317.3 MB)\n",
            "\u001b[2K     \u001b[90m━━━━━━━━━━━━━━━━━━━━━━━━━━━━━━━━━━━━━━━━\u001b[0m \u001b[32m317.3/317.3 MB\u001b[0m \u001b[31m4.9 MB/s\u001b[0m eta \u001b[36m0:00:00\u001b[0m\n",
            "\u001b[?25h  Preparing metadata (setup.py) ... \u001b[?25l\u001b[?25hdone\n",
            "Requirement already satisfied: py4j==0.10.9.7 in /usr/local/lib/python3.10/dist-packages (from pyspark) (0.10.9.7)\n",
            "Building wheels for collected packages: pyspark\n",
            "  Building wheel for pyspark (setup.py) ... \u001b[?25l\u001b[?25hdone\n",
            "  Created wheel for pyspark: filename=pyspark-3.5.3-py2.py3-none-any.whl size=317840625 sha256=912a289d25ead764fb2ede8457707ff34d2257c4e3dada6d85044eb8e8529fd7\n",
            "  Stored in directory: /root/.cache/pip/wheels/1b/3a/92/28b93e2fbfdbb07509ca4d6f50c5e407f48dce4ddbda69a4ab\n",
            "Successfully built pyspark\n",
            "Installing collected packages: pyspark\n",
            "Successfully installed pyspark-3.5.3\n"
          ]
        }
      ]
    },
    {
      "cell_type": "code",
      "source": [
        "from pyspark import SparkContext\n",
        "from pyspark.sql import SparkSession"
      ],
      "metadata": {
        "id": "TmdDn27IeQRD"
      },
      "execution_count": 79,
      "outputs": []
    },
    {
      "cell_type": "code",
      "source": [
        "from pyspark.sql.types import StructType,StructField,IntegerType,StringType,FloatType"
      ],
      "metadata": {
        "id": "IhgUYbCJeXpM"
      },
      "execution_count": 80,
      "outputs": []
    },
    {
      "cell_type": "code",
      "source": [
        "spark=SparkSession.builder.appName(\"spark_app\").master(\"local\").getOrCreate()"
      ],
      "metadata": {
        "id": "s_3cXebof66O"
      },
      "execution_count": 81,
      "outputs": []
    },
    {
      "cell_type": "code",
      "source": [
        "Employee_Schema=StructType([StructField(\"id\",IntegerType(),True),\n",
        "                            StructField(\"first_name\",StringType(),True),\n",
        "                            StructField(\"last_name\",StringType(),True),\n",
        "                            StructField(\"gender\",StringType(),True),\n",
        "                            StructField(\"salary\",StringType(),True),\n",
        "                            StructField(\"dept\",StringType(),True)])"
      ],
      "metadata": {
        "id": "AKYGTaHue7fR"
      },
      "execution_count": 82,
      "outputs": []
    },
    {
      "cell_type": "code",
      "source": [
        "Employee_df=spark.read.schema(Employee_Schema).option(\"header\",True).csv(\"/content/Employee1.csv\")"
      ],
      "metadata": {
        "id": "-k1xmq2ofkzc"
      },
      "execution_count": 83,
      "outputs": []
    },
    {
      "cell_type": "code",
      "source": [
        "Employee_df=Employee_df.withColumn(\"salary\",F.substring(\"salary\",2,len(\"salary\")-1)).withColumn(\"salary\",F.col(\"salary\").cast(\"integer\"))"
      ],
      "metadata": {
        "id": "E11p3j3igRnM"
      },
      "execution_count": 84,
      "outputs": []
    },
    {
      "cell_type": "code",
      "source": [
        "Employee_df.printSchema()"
      ],
      "metadata": {
        "colab": {
          "base_uri": "https://localhost:8080/"
        },
        "id": "bD7OCWECgx7B",
        "outputId": "48f52a03-5d78-43f6-b509-b90fc69288a5"
      },
      "execution_count": 85,
      "outputs": [
        {
          "output_type": "stream",
          "name": "stdout",
          "text": [
            "root\n",
            " |-- id: integer (nullable = true)\n",
            " |-- first_name: string (nullable = true)\n",
            " |-- last_name: string (nullable = true)\n",
            " |-- gender: string (nullable = true)\n",
            " |-- salary: integer (nullable = true)\n",
            " |-- dept: string (nullable = true)\n",
            "\n"
          ]
        }
      ]
    },
    {
      "cell_type": "code",
      "source": [
        "Employee_Address_Schema=StructType([StructField(\"id\",IntegerType(),True),\n",
        "                                    StructField(\"email\",StringType(),True),\n",
        "                                    StructField(\"ip_address\",StringType(),True)])"
      ],
      "metadata": {
        "id": "WcNsigdlhDn0"
      },
      "execution_count": 86,
      "outputs": []
    },
    {
      "cell_type": "code",
      "source": [
        "Employee_Address_df=spark.read.schema(Employee_Address_Schema).option(\"header\",True).csv(\"/content/Employee_Address.csv\")\n",
        "Employee_Address_df.show(10)\n"
      ],
      "metadata": {
        "colab": {
          "base_uri": "https://localhost:8080/"
        },
        "id": "cnyxjI8uia9u",
        "outputId": "eebc25cf-d593-4c78-9a67-88a8b9e8d942"
      },
      "execution_count": 87,
      "outputs": [
        {
          "output_type": "stream",
          "name": "stdout",
          "text": [
            "+---+--------------------+---------------+\n",
            "| id|               email|     ip_address|\n",
            "+---+--------------------+---------------+\n",
            "|  1|swinterburn0@dail...|   34.78.27.108|\n",
            "|  2|aarnaldo1@eepurl.com| 190.52.131.147|\n",
            "|  3|    dbuzek2@1688.com| 152.198.169.97|\n",
            "|  4| sduffyn3@tumblr.com| 10.233.235.146|\n",
            "|  5|   mmeeke4@jigsy.com|    59.27.18.36|\n",
            "|  6|prosenblath5@live...|   12.66.142.55|\n",
            "|  7|   bbuddle6@yale.edu| 58.191.128.163|\n",
            "|  8|slindeberg7@topli...|  180.250.88.89|\n",
            "|  9|ltwiddell8@zdnet.com|212.122.136.101|\n",
            "| 10|  fgiberd9@prweb.com|   18.6.137.101|\n",
            "+---+--------------------+---------------+\n",
            "only showing top 10 rows\n",
            "\n"
          ]
        }
      ]
    },
    {
      "cell_type": "code",
      "source": [
        "Employee_Address_df.printSchema()"
      ],
      "metadata": {
        "colab": {
          "base_uri": "https://localhost:8080/"
        },
        "id": "-aNLF7MViyw-",
        "outputId": "0a6c796a-971d-4e0d-fdd1-46fd034e4599"
      },
      "execution_count": 88,
      "outputs": [
        {
          "output_type": "stream",
          "name": "stdout",
          "text": [
            "root\n",
            " |-- id: integer (nullable = true)\n",
            " |-- email: string (nullable = true)\n",
            " |-- ip_address: string (nullable = true)\n",
            "\n"
          ]
        }
      ]
    },
    {
      "cell_type": "code",
      "source": [
        "from pyspark.sql.window import Window\n",
        "from pyspark.sql import functions as F"
      ],
      "metadata": {
        "id": "VBbfDVH8CATN"
      },
      "execution_count": 89,
      "outputs": []
    },
    {
      "cell_type": "markdown",
      "source": [
        "<b> Average Function <b>"
      ],
      "metadata": {
        "id": "fYbSlD0RDk8j"
      }
    },
    {
      "cell_type": "code",
      "source": [
        "Employee_df.withColumn(\"Avergae_salary\",F.avg(\"salary\").over(Window.partitionBy())).show(5)"
      ],
      "metadata": {
        "id": "1o2uA8EGDErM",
        "outputId": "ee053939-6d33-4443-d6d7-89a7c0344513",
        "colab": {
          "base_uri": "https://localhost:8080/"
        }
      },
      "execution_count": 90,
      "outputs": [
        {
          "output_type": "stream",
          "name": "stdout",
          "text": [
            "+---+----------+---------+------+------+--------------------+--------------+\n",
            "| id|first_name|last_name|gender|salary|                dept|Avergae_salary|\n",
            "+---+----------+---------+------+------+--------------------+--------------+\n",
            "|  1| Marmaduke| Akenhead|  Male| 36478|            Training|      35499.17|\n",
            "|  2|    Corbin|    Prahm|  Male| 34566|Business Development|      35499.17|\n",
            "|  3|   Halette|   Yersin|Female| 43506|Research and Deve...|      35499.17|\n",
            "|  4|     Essie|  Quixley|Female| 20111|           Marketing|      35499.17|\n",
            "|  5|  Brandice|   Boyles|Female| 28720|            Training|      35499.17|\n",
            "+---+----------+---------+------+------+--------------------+--------------+\n",
            "only showing top 5 rows\n",
            "\n"
          ]
        }
      ]
    },
    {
      "cell_type": "markdown",
      "source": [
        "**Count Function**"
      ],
      "metadata": {
        "id": "edrSQh5aG97g"
      }
    },
    {
      "cell_type": "code",
      "source": [
        "Employee_df.withColumn(\"Gender_based_Count\",F.count(\"*\").over(Window.partitionBy(\"dept\"))).show(55)"
      ],
      "metadata": {
        "id": "NcQcvswaDsUH",
        "outputId": "5b9c18a0-d282-40c0-c94d-61e07d82712c",
        "colab": {
          "base_uri": "https://localhost:8080/"
        }
      },
      "execution_count": 91,
      "outputs": [
        {
          "output_type": "stream",
          "name": "stdout",
          "text": [
            "+---+----------+----------+-----------+------+--------------------+------------------+\n",
            "| id|first_name| last_name|     gender|salary|                dept|Gender_based_Count|\n",
            "+---+----------+----------+-----------+------+--------------------+------------------+\n",
            "| 11|   Thornie|  Stidever|       Male| 38823|          Accounting|                10|\n",
            "| 12|     Dawna|    Ambage|    Agender| 37374|          Accounting|                10|\n",
            "| 13|   Hoebart|   Sillito|       Male| 29249|          Accounting|                10|\n",
            "| 14|   Micaela|Josifovitz|     Female| 26098|          Accounting|                10|\n",
            "| 32|    Nancee|   Sibbert|     Female| 22281|          Accounting|                10|\n",
            "| 69|     Sheba|    Edwins|     Female| 34164|          Accounting|                10|\n",
            "| 84|     Avrit|    Marrow|     Female| 48311|          Accounting|                10|\n",
            "| 85|   Ardelia|    Bayley|     Female| 47814|          Accounting|                10|\n",
            "| 91|       Ray|    Collop|     Female| 38947|          Accounting|                10|\n",
            "| 92|    Mellie|   O'Brien|     Female| 48672|          Accounting|                10|\n",
            "|  2|    Corbin|     Prahm|       Male| 34566|Business Development|                14|\n",
            "| 10|    Laurie|   Burcher|       Male| 42245|Business Development|                14|\n",
            "| 15|     Junie|  Prudence|     Female| 44986|Business Development|                14|\n",
            "| 18|   Alameda|      Kira|     Female| 44039|Business Development|                14|\n",
            "| 29|  Hendrika|    Belham|     Female| 27322|Business Development|                14|\n",
            "| 41|   Rickert|   Farrand|       Male| 42256|Business Development|                14|\n",
            "| 42|      Nana|    Meijer|     Female| 33268|Business Development|                14|\n",
            "| 60|    Kylila|  Redholls|     Female| 46474|Business Development|                14|\n",
            "| 62|  Elianore|   Sarjant|     Female| 29842|Business Development|                14|\n",
            "| 70|   Osbourn|  Jordison|       Male| 23465|Business Development|                14|\n",
            "| 71|  Waldemar|   Akister|       Male| 46323|Business Development|                14|\n",
            "| 73|  Johnette|     Aasaf|     Female| 27811|Business Development|                14|\n",
            "| 86|  Jermayne|Espinheira|       Male| 36733|Business Development|                14|\n",
            "| 95|     Niall|  O'Reilly|       Male| 22160|Business Development|                14|\n",
            "|  6|   Mellisa|     Jinks|     Female| 37349|         Engineering|                 7|\n",
            "|  8|   Chantal|     Judge|     Female| 38240|         Engineering|                 7|\n",
            "| 48|    Farley|   Oscroft|       Male| 31115|         Engineering|                 7|\n",
            "| 65|     Staci| Northedge|     Female| 33999|         Engineering|                 7|\n",
            "| 67|    Kellen|Antonomoli|Genderqueer| 37628|         Engineering|                 7|\n",
            "| 78|   Teodoor|     Lomas|       Male| 38660|         Engineering|                 7|\n",
            "| 80|   Rozanne|Portsmouth|     Female| 23597|         Engineering|                 7|\n",
            "| 28|     Amery|    Tiller|       Male| 41977|     Human Resources|                 4|\n",
            "| 36|   Jsandye| Cushworth|     Female| 45056|     Human Resources|                 4|\n",
            "| 53|      Isis|   Sturror|     Female| 41192|     Human Resources|                 4|\n",
            "| 81|    Catina|  Strivens|     Female| 43881|     Human Resources|                 4|\n",
            "| 19|    Kalila|  Gribbell|     Female| 32287|               Legal|                10|\n",
            "| 20|    Fredek|   Sergant|       Male| 37034|               Legal|                10|\n",
            "| 21|   Cassius|   Dalwood|       Male| 30771|               Legal|                10|\n",
            "| 33|  Angelina|    Alldre|   Bigender| 43793|               Legal|                10|\n",
            "| 35| Anneliese|     Detoc|     Female| 47444|               Legal|                10|\n",
            "| 43|Ermentrude|   Heisler|     Female| 40477|               Legal|                10|\n",
            "| 56|  Kathrine|   Digweed|     Female| 32757|               Legal|                10|\n",
            "| 59|    Nester|    Reisen|       Male| 47303|               Legal|                10|\n",
            "| 74|    Darryl|   Bramley|Genderqueer| 46679|               Legal|                10|\n",
            "| 93|    Linoel|    Monini|       Male| 27141|               Legal|                10|\n",
            "|  4|     Essie|   Quixley|     Female| 20111|           Marketing|                 6|\n",
            "| 26|   Grethel|    Pigott|     Female| 38242|           Marketing|                 6|\n",
            "| 40|   Miquela|    Lansly|   Bigender| 21380|           Marketing|                 6|\n",
            "| 51|  Meredeth|   Robeson|       Male| 31400|           Marketing|                 6|\n",
            "| 83|  Rafferty|    Falcus|       Male| 45952|           Marketing|                 6|\n",
            "|100|     Bevvy|   Bantham|     Female| 35456|           Marketing|                 6|\n",
            "| 22| Blondelle|     Aubry|     Female| 22953|  Product Management|                 4|\n",
            "| 34|      Kipp|  Preskett|     Female| 20394|  Product Management|                 4|\n",
            "| 38|    Iorgos|  Lorrimer|       Male| 24260|  Product Management|                 4|\n",
            "| 76|   Vincenz|  Bertrand|       Male| 40036|  Product Management|                 4|\n",
            "+---+----------+----------+-----------+------+--------------------+------------------+\n",
            "only showing top 55 rows\n",
            "\n"
          ]
        }
      ]
    },
    {
      "cell_type": "markdown",
      "source": [
        "**Sum Functions**"
      ],
      "metadata": {
        "id": "J5dX1K5HIwOr"
      }
    },
    {
      "cell_type": "code",
      "source": [
        "Employee_df.withColumn(\"total_money_spent_on_salaries\",F.sum(\"salary\").over(Window.partitionBy(\"dept\").orderBy(\"salary\"))).show()"
      ],
      "metadata": {
        "id": "O7XmYdb4HC65",
        "outputId": "e945df53-b663-47ca-b795-4ac2bd5c5d92",
        "colab": {
          "base_uri": "https://localhost:8080/"
        }
      },
      "execution_count": 93,
      "outputs": [
        {
          "output_type": "stream",
          "name": "stdout",
          "text": [
            "+---+----------+----------+-------+------+--------------------+-----------------------------+\n",
            "| id|first_name| last_name| gender|salary|                dept|total_money_spent_on_salaries|\n",
            "+---+----------+----------+-------+------+--------------------+-----------------------------+\n",
            "| 32|    Nancee|   Sibbert| Female| 22281|          Accounting|                        22281|\n",
            "| 14|   Micaela|Josifovitz| Female| 26098|          Accounting|                        48379|\n",
            "| 13|   Hoebart|   Sillito|   Male| 29249|          Accounting|                        77628|\n",
            "| 69|     Sheba|    Edwins| Female| 34164|          Accounting|                       111792|\n",
            "| 12|     Dawna|    Ambage|Agender| 37374|          Accounting|                       149166|\n",
            "| 11|   Thornie|  Stidever|   Male| 38823|          Accounting|                       187989|\n",
            "| 91|       Ray|    Collop| Female| 38947|          Accounting|                       226936|\n",
            "| 85|   Ardelia|    Bayley| Female| 47814|          Accounting|                       274750|\n",
            "| 84|     Avrit|    Marrow| Female| 48311|          Accounting|                       323061|\n",
            "| 92|    Mellie|   O'Brien| Female| 48672|          Accounting|                       371733|\n",
            "| 95|     Niall|  O'Reilly|   Male| 22160|Business Development|                        22160|\n",
            "| 70|   Osbourn|  Jordison|   Male| 23465|Business Development|                        45625|\n",
            "| 29|  Hendrika|    Belham| Female| 27322|Business Development|                        72947|\n",
            "| 73|  Johnette|     Aasaf| Female| 27811|Business Development|                       100758|\n",
            "| 62|  Elianore|   Sarjant| Female| 29842|Business Development|                       130600|\n",
            "| 42|      Nana|    Meijer| Female| 33268|Business Development|                       163868|\n",
            "|  2|    Corbin|     Prahm|   Male| 34566|Business Development|                       198434|\n",
            "| 86|  Jermayne|Espinheira|   Male| 36733|Business Development|                       235167|\n",
            "| 10|    Laurie|   Burcher|   Male| 42245|Business Development|                       277412|\n",
            "| 41|   Rickert|   Farrand|   Male| 42256|Business Development|                       319668|\n",
            "+---+----------+----------+-------+------+--------------------+-----------------------------+\n",
            "only showing top 20 rows\n",
            "\n"
          ]
        }
      ]
    },
    {
      "cell_type": "markdown",
      "source": [
        "**Row_Number Function**"
      ],
      "metadata": {
        "id": "OpBtFz3UPN6T"
      }
    },
    {
      "cell_type": "code",
      "source": [
        "Employee_df.withColumn(\"Row_Number\",F.row_number().over(Window.partitionBy(\"dept\").orderBy(F.col(\"salary\").desc()))).show()"
      ],
      "metadata": {
        "id": "SvmWeEOXI8DB",
        "outputId": "eeb6e892-108f-41f6-cc77-b887c1520481",
        "colab": {
          "base_uri": "https://localhost:8080/"
        }
      },
      "execution_count": 102,
      "outputs": [
        {
          "output_type": "stream",
          "name": "stdout",
          "text": [
            "+---+----------+----------+-------+------+--------------------+----------+\n",
            "| id|first_name| last_name| gender|salary|                dept|Row_Number|\n",
            "+---+----------+----------+-------+------+--------------------+----------+\n",
            "| 92|    Mellie|   O'Brien| Female| 48672|          Accounting|         1|\n",
            "| 84|     Avrit|    Marrow| Female| 48311|          Accounting|         2|\n",
            "| 85|   Ardelia|    Bayley| Female| 47814|          Accounting|         3|\n",
            "| 91|       Ray|    Collop| Female| 38947|          Accounting|         4|\n",
            "| 11|   Thornie|  Stidever|   Male| 38823|          Accounting|         5|\n",
            "| 12|     Dawna|    Ambage|Agender| 37374|          Accounting|         6|\n",
            "| 69|     Sheba|    Edwins| Female| 34164|          Accounting|         7|\n",
            "| 13|   Hoebart|   Sillito|   Male| 29249|          Accounting|         8|\n",
            "| 14|   Micaela|Josifovitz| Female| 26098|          Accounting|         9|\n",
            "| 32|    Nancee|   Sibbert| Female| 22281|          Accounting|        10|\n",
            "| 60|    Kylila|  Redholls| Female| 46474|Business Development|         1|\n",
            "| 71|  Waldemar|   Akister|   Male| 46323|Business Development|         2|\n",
            "| 15|     Junie|  Prudence| Female| 44986|Business Development|         3|\n",
            "| 18|   Alameda|      Kira| Female| 44039|Business Development|         4|\n",
            "| 41|   Rickert|   Farrand|   Male| 42256|Business Development|         5|\n",
            "| 10|    Laurie|   Burcher|   Male| 42245|Business Development|         6|\n",
            "| 86|  Jermayne|Espinheira|   Male| 36733|Business Development|         7|\n",
            "|  2|    Corbin|     Prahm|   Male| 34566|Business Development|         8|\n",
            "| 42|      Nana|    Meijer| Female| 33268|Business Development|         9|\n",
            "| 62|  Elianore|   Sarjant| Female| 29842|Business Development|        10|\n",
            "+---+----------+----------+-------+------+--------------------+----------+\n",
            "only showing top 20 rows\n",
            "\n"
          ]
        }
      ]
    },
    {
      "cell_type": "markdown",
      "source": [
        "**Rank**"
      ],
      "metadata": {
        "id": "8GpDOZ7XPLkT"
      }
    },
    {
      "cell_type": "code",
      "source": [
        "Employee_df.withColumn(\"rank\",F.rank().over(Window.partitionBy(\"dept\").orderBy(F.col(\"salary\").desc()))).show()"
      ],
      "metadata": {
        "id": "00rWw6L7OhjF",
        "outputId": "f927aa86-fc1e-488a-86a8-cf9d5834f72d",
        "colab": {
          "base_uri": "https://localhost:8080/"
        }
      },
      "execution_count": 104,
      "outputs": [
        {
          "output_type": "stream",
          "name": "stdout",
          "text": [
            "+---+----------+----------+-------+------+--------------------+----+\n",
            "| id|first_name| last_name| gender|salary|                dept|rank|\n",
            "+---+----------+----------+-------+------+--------------------+----+\n",
            "| 92|    Mellie|   O'Brien| Female| 48672|          Accounting|   1|\n",
            "| 84|     Avrit|    Marrow| Female| 48311|          Accounting|   2|\n",
            "| 85|   Ardelia|    Bayley| Female| 47814|          Accounting|   3|\n",
            "| 91|       Ray|    Collop| Female| 38947|          Accounting|   4|\n",
            "| 11|   Thornie|  Stidever|   Male| 38823|          Accounting|   5|\n",
            "| 12|     Dawna|    Ambage|Agender| 37374|          Accounting|   6|\n",
            "| 69|     Sheba|    Edwins| Female| 34164|          Accounting|   7|\n",
            "| 13|   Hoebart|   Sillito|   Male| 29249|          Accounting|   8|\n",
            "| 14|   Micaela|Josifovitz| Female| 26098|          Accounting|   9|\n",
            "| 32|    Nancee|   Sibbert| Female| 22281|          Accounting|  10|\n",
            "| 60|    Kylila|  Redholls| Female| 46474|Business Development|   1|\n",
            "| 71|  Waldemar|   Akister|   Male| 46323|Business Development|   2|\n",
            "| 15|     Junie|  Prudence| Female| 44986|Business Development|   3|\n",
            "| 18|   Alameda|      Kira| Female| 44039|Business Development|   4|\n",
            "| 41|   Rickert|   Farrand|   Male| 42256|Business Development|   5|\n",
            "| 10|    Laurie|   Burcher|   Male| 42245|Business Development|   6|\n",
            "| 86|  Jermayne|Espinheira|   Male| 36733|Business Development|   7|\n",
            "|  2|    Corbin|     Prahm|   Male| 34566|Business Development|   8|\n",
            "| 42|      Nana|    Meijer| Female| 33268|Business Development|   9|\n",
            "| 62|  Elianore|   Sarjant| Female| 29842|Business Development|  10|\n",
            "+---+----------+----------+-------+------+--------------------+----+\n",
            "only showing top 20 rows\n",
            "\n"
          ]
        }
      ]
    },
    {
      "cell_type": "markdown",
      "source": [
        "**Dense Rank**"
      ],
      "metadata": {
        "id": "xVD93q8_PHZ5"
      }
    },
    {
      "cell_type": "code",
      "source": [
        "Employee_df.withColumn(\"dense_rank\",F.dense_rank().over(Window.partitionBy(\"dept\").orderBy(F.col(\"salary\").desc()))).show()"
      ],
      "metadata": {
        "id": "p4kzf8gHOqNy",
        "outputId": "eb9e07a6-2f9a-461a-d0db-ec942ea89387",
        "colab": {
          "base_uri": "https://localhost:8080/"
        }
      },
      "execution_count": 107,
      "outputs": [
        {
          "output_type": "stream",
          "name": "stdout",
          "text": [
            "+---+----------+----------+-------+------+--------------------+----------+\n",
            "| id|first_name| last_name| gender|salary|                dept|dense_rank|\n",
            "+---+----------+----------+-------+------+--------------------+----------+\n",
            "| 92|    Mellie|   O'Brien| Female| 48672|          Accounting|         1|\n",
            "| 84|     Avrit|    Marrow| Female| 48311|          Accounting|         2|\n",
            "| 85|   Ardelia|    Bayley| Female| 47814|          Accounting|         3|\n",
            "| 91|       Ray|    Collop| Female| 38947|          Accounting|         4|\n",
            "| 11|   Thornie|  Stidever|   Male| 38823|          Accounting|         5|\n",
            "| 12|     Dawna|    Ambage|Agender| 37374|          Accounting|         6|\n",
            "| 69|     Sheba|    Edwins| Female| 34164|          Accounting|         7|\n",
            "| 13|   Hoebart|   Sillito|   Male| 29249|          Accounting|         8|\n",
            "| 14|   Micaela|Josifovitz| Female| 26098|          Accounting|         9|\n",
            "| 32|    Nancee|   Sibbert| Female| 22281|          Accounting|        10|\n",
            "| 60|    Kylila|  Redholls| Female| 46474|Business Development|         1|\n",
            "| 71|  Waldemar|   Akister|   Male| 46323|Business Development|         2|\n",
            "| 15|     Junie|  Prudence| Female| 44986|Business Development|         3|\n",
            "| 18|   Alameda|      Kira| Female| 44039|Business Development|         4|\n",
            "| 41|   Rickert|   Farrand|   Male| 42256|Business Development|         5|\n",
            "| 10|    Laurie|   Burcher|   Male| 42245|Business Development|         6|\n",
            "| 86|  Jermayne|Espinheira|   Male| 36733|Business Development|         7|\n",
            "|  2|    Corbin|     Prahm|   Male| 34566|Business Development|         8|\n",
            "| 42|      Nana|    Meijer| Female| 33268|Business Development|         9|\n",
            "| 62|  Elianore|   Sarjant| Female| 29842|Business Development|        10|\n",
            "+---+----------+----------+-------+------+--------------------+----------+\n",
            "only showing top 20 rows\n",
            "\n"
          ]
        }
      ]
    },
    {
      "cell_type": "code",
      "source": [
        "Employee_df.withColumn(\"Ntile\",F.ntile(4).over(Window.partitionBy().orderBy(F.col(\"id\")))).show(100)"
      ],
      "metadata": {
        "id": "jpVNWxdRP-pZ",
        "outputId": "4880e5a7-e046-4008-90dc-37c095247213",
        "colab": {
          "base_uri": "https://localhost:8080/"
        }
      },
      "execution_count": 114,
      "outputs": [
        {
          "output_type": "stream",
          "name": "stdout",
          "text": [
            "+---+----------+------------+-----------+------+--------------------+-----+\n",
            "| id|first_name|   last_name|     gender|salary|                dept|Ntile|\n",
            "+---+----------+------------+-----------+------+--------------------+-----+\n",
            "|  1| Marmaduke|    Akenhead|       Male| 36478|            Training|    1|\n",
            "|  2|    Corbin|       Prahm|       Male| 34566|Business Development|    1|\n",
            "|  3|   Halette|      Yersin|     Female| 43506|Research and Deve...|    1|\n",
            "|  4|     Essie|     Quixley|     Female| 20111|           Marketing|    1|\n",
            "|  5|  Brandice|      Boyles|     Female| 28720|            Training|    1|\n",
            "|  6|   Mellisa|       Jinks|     Female| 37349|         Engineering|    1|\n",
            "|  7|     Berty|     Gulston|       Male| 48303|Research and Deve...|    1|\n",
            "|  8|   Chantal|       Judge|     Female| 38240|         Engineering|    1|\n",
            "|  9|   Jeniece|     Burnand|     Female| 22241|            Training|    1|\n",
            "| 10|    Laurie|     Burcher|       Male| 42245|Business Development|    1|\n",
            "| 11|   Thornie|    Stidever|       Male| 38823|          Accounting|    1|\n",
            "| 12|     Dawna|      Ambage|    Agender| 37374|          Accounting|    1|\n",
            "| 13|   Hoebart|     Sillito|       Male| 29249|          Accounting|    1|\n",
            "| 14|   Micaela|  Josifovitz|     Female| 26098|          Accounting|    1|\n",
            "| 15|     Junie|    Prudence|     Female| 44986|Business Development|    1|\n",
            "| 16|    Dorrie|       Fisby|     Female| 30987|Research and Deve...|    1|\n",
            "| 17|     Ediva|      Binnie|     Female| 39402|Research and Deve...|    1|\n",
            "| 18|   Alameda|        Kira|     Female| 44039|Business Development|    1|\n",
            "| 19|    Kalila|    Gribbell|     Female| 32287|               Legal|    1|\n",
            "| 20|    Fredek|     Sergant|       Male| 37034|               Legal|    1|\n",
            "| 21|   Cassius|     Dalwood|       Male| 30771|               Legal|    1|\n",
            "| 22| Blondelle|       Aubry|     Female| 22953|  Product Management|    1|\n",
            "| 23|   Pandora|Van den Oord|     Female| 22786|               Sales|    1|\n",
            "| 24|     Marti|        Fend|     Female| 42487|Research and Deve...|    1|\n",
            "| 25|     Brenn|     Necolds|     Female| 45639|Research and Deve...|    1|\n",
            "| 26|   Grethel|      Pigott|     Female| 38242|           Marketing|    2|\n",
            "| 27|     Micki|   Cultcheth|     Female| 39364|Research and Deve...|    2|\n",
            "| 28|     Amery|      Tiller|       Male| 41977|     Human Resources|    2|\n",
            "| 29|  Hendrika|      Belham|     Female| 27322|Business Development|    2|\n",
            "| 30|     Rudie|    Longhorn|       Male| 43614|             Support|    2|\n",
            "| 31|     Manny|     Whitlam| Non-binary| 42732|            Services|    2|\n",
            "| 32|    Nancee|     Sibbert|     Female| 22281|          Accounting|    2|\n",
            "| 33|  Angelina|      Alldre|   Bigender| 43793|               Legal|    2|\n",
            "| 34|      Kipp|    Preskett|     Female| 20394|  Product Management|    2|\n",
            "| 35| Anneliese|       Detoc|     Female| 47444|               Legal|    2|\n",
            "| 36|   Jsandye|   Cushworth|     Female| 45056|     Human Resources|    2|\n",
            "| 37|       Ode|       Latch|       Male| 29168|             Support|    2|\n",
            "| 38|    Iorgos|    Lorrimer|       Male| 24260|  Product Management|    2|\n",
            "| 39|   Nicolle|       Heyns|     Female| 24865|            Training|    2|\n",
            "| 40|   Miquela|      Lansly|   Bigender| 21380|           Marketing|    2|\n",
            "| 41|   Rickert|     Farrand|       Male| 42256|Business Development|    2|\n",
            "| 42|      Nana|      Meijer|     Female| 33268|Business Development|    2|\n",
            "| 43|Ermentrude|     Heisler|     Female| 40477|               Legal|    2|\n",
            "| 44|    Catlin|    Enrietto|     Female| 25478|Research and Deve...|    2|\n",
            "| 45|      Cory|     Cobbing|Genderfluid| 30836|               Sales|    2|\n",
            "| 46|  Giordano|      Osmond|       Male| 28718|            Services|    2|\n",
            "| 47|    Robbyn|      Connah|     Female| 34844|            Training|    2|\n",
            "| 48|    Farley|     Oscroft|       Male| 31115|         Engineering|    2|\n",
            "| 49|      Cody|     Dollman|       Male| 35620|            Training|    2|\n",
            "| 50|    Ursala|        Carn|   Bigender| 24560|               Sales|    2|\n",
            "| 51|  Meredeth|     Robeson|       Male| 31400|           Marketing|    3|\n",
            "| 52|     Franz|     Renison|       Male| 30004|            Services|    3|\n",
            "| 53|      Isis|     Sturror|     Female| 41192|     Human Resources|    3|\n",
            "| 54|    Trixie|     MacPhee|     Female| 23501|Research and Deve...|    3|\n",
            "| 55|    Carina|       Apfel|     Female| 42876|            Services|    3|\n",
            "| 56|  Kathrine|     Digweed|     Female| 32757|               Legal|    3|\n",
            "| 57|   Yolanda|  O'Driscole|     Female| 21140|            Services|    3|\n",
            "| 58|    Derrik|     Hollows|       Male| 34595|            Services|    3|\n",
            "| 59|    Nester|      Reisen|       Male| 47303|               Legal|    3|\n",
            "| 60|    Kylila|    Redholls|     Female| 46474|Business Development|    3|\n",
            "| 61|  Crichton|     Aldwich|       Male| 28227|             Support|    3|\n",
            "| 62|  Elianore|     Sarjant|     Female| 29842|Business Development|    3|\n",
            "| 63|  Giovanna|     Mollitt|     Female| 48538|            Training|    3|\n",
            "| 64|   Obadiah|       Deere|       Male| 26792|            Training|    3|\n",
            "| 65|     Staci|   Northedge|     Female| 33999|         Engineering|    3|\n",
            "| 66|      Dasi|      Cruces|     Female| 43649|Research and Deve...|    3|\n",
            "| 67|    Kellen|  Antonomoli|Genderqueer| 37628|         Engineering|    3|\n",
            "| 68|     Roman|  Reichhardt|       Male| 30528|               Sales|    3|\n",
            "| 69|     Sheba|      Edwins|     Female| 34164|          Accounting|    3|\n",
            "| 70|   Osbourn|    Jordison|       Male| 23465|Business Development|    3|\n",
            "| 71|  Waldemar|     Akister|       Male| 46323|Business Development|    3|\n",
            "| 72|      Tove|    Judgkins|     Female| 41458|             Support|    3|\n",
            "| 73|  Johnette|       Aasaf|     Female| 27811|Business Development|    3|\n",
            "| 74|    Darryl|     Bramley|Genderqueer| 46679|               Legal|    3|\n",
            "| 75|       Nil|     Worrill|       Male| 41363|Research and Deve...|    3|\n",
            "| 76|   Vincenz|    Bertrand|       Male| 40036|  Product Management|    4|\n",
            "| 77| Marmaduke|       Covey|       Male| 42706|            Services|    4|\n",
            "| 78|   Teodoor|       Lomas|       Male| 38660|         Engineering|    4|\n",
            "| 79|  Mitchell|      Missen|       Male| 33926|Research and Deve...|    4|\n",
            "| 80|   Rozanne|  Portsmouth|     Female| 23597|         Engineering|    4|\n",
            "| 81|    Catina|    Strivens|     Female| 43881|     Human Resources|    4|\n",
            "| 82|    Herold|        Doud|       Male| 28566|            Services|    4|\n",
            "| 83|  Rafferty|      Falcus|       Male| 45952|           Marketing|    4|\n",
            "| 84|     Avrit|      Marrow|     Female| 48311|          Accounting|    4|\n",
            "| 85|   Ardelia|      Bayley|     Female| 47814|          Accounting|    4|\n",
            "| 86|  Jermayne|  Espinheira|       Male| 36733|Business Development|    4|\n",
            "| 87|     Alexa|   Camilleri|     Female| 27579|Research and Deve...|    4|\n",
            "| 88|     Brien|   Spawforth|       Male| 47252|               Sales|    4|\n",
            "| 89|      Fawn|    Pagelsen|     Female| 27703|            Training|    4|\n",
            "| 90|    Monroe|   Bottleson|       Male| 41801|            Services|    4|\n",
            "| 91|       Ray|      Collop|     Female| 38947|          Accounting|    4|\n",
            "| 92|    Mellie|     O'Brien|     Female| 48672|          Accounting|    4|\n",
            "| 93|    Linoel|      Monini|       Male| 27141|               Legal|    4|\n",
            "| 94|    Trixie|       Laing|     Female| 40720|            Training|    4|\n",
            "| 95|     Niall|    O'Reilly|       Male| 22160|Business Development|    4|\n",
            "| 96|    Ginnie|      Grogan|     Female| 39587|            Training|    4|\n",
            "| 97|     Lindi|    Hinrichs|     Female| 47851|               Sales|    4|\n",
            "| 98| Cristobal|    Zuanazzi|       Male| 27660|            Training|    4|\n",
            "| 99|     Efrem|     Gosnall|       Male| 39760|Research and Deve...|    4|\n",
            "|100|     Bevvy|     Bantham|     Female| 35456|           Marketing|    4|\n",
            "+---+----------+------------+-----------+------+--------------------+-----+\n",
            "\n"
          ]
        }
      ]
    },
    {
      "cell_type": "code",
      "source": [
        "Employee_df.withColumn(\"first_value_of_department_top_salaried\",F.first_value(\"salary\").over(Window.partitionBy(\"dept\").orderBy(F.col(\"salary\").desc()))).orderBy(\"dept\").show(100)"
      ],
      "metadata": {
        "id": "TrIb4C96Rb1A",
        "outputId": "dbf12964-f2fa-42e6-dc4a-888324743f84",
        "colab": {
          "base_uri": "https://localhost:8080/"
        }
      },
      "execution_count": 118,
      "outputs": [
        {
          "output_type": "stream",
          "name": "stdout",
          "text": [
            "+---+----------+------------+-----------+------+--------------------+--------------------------------------+\n",
            "| id|first_name|   last_name|     gender|salary|                dept|first_value_of_department_top_salaried|\n",
            "+---+----------+------------+-----------+------+--------------------+--------------------------------------+\n",
            "| 92|    Mellie|     O'Brien|     Female| 48672|          Accounting|                                 48672|\n",
            "| 84|     Avrit|      Marrow|     Female| 48311|          Accounting|                                 48672|\n",
            "| 85|   Ardelia|      Bayley|     Female| 47814|          Accounting|                                 48672|\n",
            "| 91|       Ray|      Collop|     Female| 38947|          Accounting|                                 48672|\n",
            "| 11|   Thornie|    Stidever|       Male| 38823|          Accounting|                                 48672|\n",
            "| 12|     Dawna|      Ambage|    Agender| 37374|          Accounting|                                 48672|\n",
            "| 69|     Sheba|      Edwins|     Female| 34164|          Accounting|                                 48672|\n",
            "| 13|   Hoebart|     Sillito|       Male| 29249|          Accounting|                                 48672|\n",
            "| 14|   Micaela|  Josifovitz|     Female| 26098|          Accounting|                                 48672|\n",
            "| 32|    Nancee|     Sibbert|     Female| 22281|          Accounting|                                 48672|\n",
            "| 60|    Kylila|    Redholls|     Female| 46474|Business Development|                                 46474|\n",
            "| 71|  Waldemar|     Akister|       Male| 46323|Business Development|                                 46474|\n",
            "| 15|     Junie|    Prudence|     Female| 44986|Business Development|                                 46474|\n",
            "| 18|   Alameda|        Kira|     Female| 44039|Business Development|                                 46474|\n",
            "| 41|   Rickert|     Farrand|       Male| 42256|Business Development|                                 46474|\n",
            "| 10|    Laurie|     Burcher|       Male| 42245|Business Development|                                 46474|\n",
            "| 86|  Jermayne|  Espinheira|       Male| 36733|Business Development|                                 46474|\n",
            "|  2|    Corbin|       Prahm|       Male| 34566|Business Development|                                 46474|\n",
            "| 42|      Nana|      Meijer|     Female| 33268|Business Development|                                 46474|\n",
            "| 62|  Elianore|     Sarjant|     Female| 29842|Business Development|                                 46474|\n",
            "| 73|  Johnette|       Aasaf|     Female| 27811|Business Development|                                 46474|\n",
            "| 29|  Hendrika|      Belham|     Female| 27322|Business Development|                                 46474|\n",
            "| 70|   Osbourn|    Jordison|       Male| 23465|Business Development|                                 46474|\n",
            "| 95|     Niall|    O'Reilly|       Male| 22160|Business Development|                                 46474|\n",
            "| 78|   Teodoor|       Lomas|       Male| 38660|         Engineering|                                 38660|\n",
            "|  8|   Chantal|       Judge|     Female| 38240|         Engineering|                                 38660|\n",
            "| 67|    Kellen|  Antonomoli|Genderqueer| 37628|         Engineering|                                 38660|\n",
            "|  6|   Mellisa|       Jinks|     Female| 37349|         Engineering|                                 38660|\n",
            "| 65|     Staci|   Northedge|     Female| 33999|         Engineering|                                 38660|\n",
            "| 48|    Farley|     Oscroft|       Male| 31115|         Engineering|                                 38660|\n",
            "| 80|   Rozanne|  Portsmouth|     Female| 23597|         Engineering|                                 38660|\n",
            "| 36|   Jsandye|   Cushworth|     Female| 45056|     Human Resources|                                 45056|\n",
            "| 81|    Catina|    Strivens|     Female| 43881|     Human Resources|                                 45056|\n",
            "| 28|     Amery|      Tiller|       Male| 41977|     Human Resources|                                 45056|\n",
            "| 53|      Isis|     Sturror|     Female| 41192|     Human Resources|                                 45056|\n",
            "| 35| Anneliese|       Detoc|     Female| 47444|               Legal|                                 47444|\n",
            "| 59|    Nester|      Reisen|       Male| 47303|               Legal|                                 47444|\n",
            "| 74|    Darryl|     Bramley|Genderqueer| 46679|               Legal|                                 47444|\n",
            "| 33|  Angelina|      Alldre|   Bigender| 43793|               Legal|                                 47444|\n",
            "| 43|Ermentrude|     Heisler|     Female| 40477|               Legal|                                 47444|\n",
            "| 20|    Fredek|     Sergant|       Male| 37034|               Legal|                                 47444|\n",
            "| 56|  Kathrine|     Digweed|     Female| 32757|               Legal|                                 47444|\n",
            "| 19|    Kalila|    Gribbell|     Female| 32287|               Legal|                                 47444|\n",
            "| 21|   Cassius|     Dalwood|       Male| 30771|               Legal|                                 47444|\n",
            "| 93|    Linoel|      Monini|       Male| 27141|               Legal|                                 47444|\n",
            "| 83|  Rafferty|      Falcus|       Male| 45952|           Marketing|                                 45952|\n",
            "| 26|   Grethel|      Pigott|     Female| 38242|           Marketing|                                 45952|\n",
            "|100|     Bevvy|     Bantham|     Female| 35456|           Marketing|                                 45952|\n",
            "| 51|  Meredeth|     Robeson|       Male| 31400|           Marketing|                                 45952|\n",
            "| 40|   Miquela|      Lansly|   Bigender| 21380|           Marketing|                                 45952|\n",
            "|  4|     Essie|     Quixley|     Female| 20111|           Marketing|                                 45952|\n",
            "| 76|   Vincenz|    Bertrand|       Male| 40036|  Product Management|                                 40036|\n",
            "| 38|    Iorgos|    Lorrimer|       Male| 24260|  Product Management|                                 40036|\n",
            "| 22| Blondelle|       Aubry|     Female| 22953|  Product Management|                                 40036|\n",
            "| 34|      Kipp|    Preskett|     Female| 20394|  Product Management|                                 40036|\n",
            "|  7|     Berty|     Gulston|       Male| 48303|Research and Deve...|                                 48303|\n",
            "| 25|     Brenn|     Necolds|     Female| 45639|Research and Deve...|                                 48303|\n",
            "| 66|      Dasi|      Cruces|     Female| 43649|Research and Deve...|                                 48303|\n",
            "|  3|   Halette|      Yersin|     Female| 43506|Research and Deve...|                                 48303|\n",
            "| 24|     Marti|        Fend|     Female| 42487|Research and Deve...|                                 48303|\n",
            "| 75|       Nil|     Worrill|       Male| 41363|Research and Deve...|                                 48303|\n",
            "| 99|     Efrem|     Gosnall|       Male| 39760|Research and Deve...|                                 48303|\n",
            "| 17|     Ediva|      Binnie|     Female| 39402|Research and Deve...|                                 48303|\n",
            "| 27|     Micki|   Cultcheth|     Female| 39364|Research and Deve...|                                 48303|\n",
            "| 79|  Mitchell|      Missen|       Male| 33926|Research and Deve...|                                 48303|\n",
            "| 16|    Dorrie|       Fisby|     Female| 30987|Research and Deve...|                                 48303|\n",
            "| 87|     Alexa|   Camilleri|     Female| 27579|Research and Deve...|                                 48303|\n",
            "| 44|    Catlin|    Enrietto|     Female| 25478|Research and Deve...|                                 48303|\n",
            "| 54|    Trixie|     MacPhee|     Female| 23501|Research and Deve...|                                 48303|\n",
            "| 97|     Lindi|    Hinrichs|     Female| 47851|               Sales|                                 47851|\n",
            "| 88|     Brien|   Spawforth|       Male| 47252|               Sales|                                 47851|\n",
            "| 45|      Cory|     Cobbing|Genderfluid| 30836|               Sales|                                 47851|\n",
            "| 68|     Roman|  Reichhardt|       Male| 30528|               Sales|                                 47851|\n",
            "| 50|    Ursala|        Carn|   Bigender| 24560|               Sales|                                 47851|\n",
            "| 23|   Pandora|Van den Oord|     Female| 22786|               Sales|                                 47851|\n",
            "| 55|    Carina|       Apfel|     Female| 42876|            Services|                                 42876|\n",
            "| 31|     Manny|     Whitlam| Non-binary| 42732|            Services|                                 42876|\n",
            "| 77| Marmaduke|       Covey|       Male| 42706|            Services|                                 42876|\n",
            "| 90|    Monroe|   Bottleson|       Male| 41801|            Services|                                 42876|\n",
            "| 58|    Derrik|     Hollows|       Male| 34595|            Services|                                 42876|\n",
            "| 52|     Franz|     Renison|       Male| 30004|            Services|                                 42876|\n",
            "| 46|  Giordano|      Osmond|       Male| 28718|            Services|                                 42876|\n",
            "| 82|    Herold|        Doud|       Male| 28566|            Services|                                 42876|\n",
            "| 57|   Yolanda|  O'Driscole|     Female| 21140|            Services|                                 42876|\n",
            "| 30|     Rudie|    Longhorn|       Male| 43614|             Support|                                 43614|\n",
            "| 72|      Tove|    Judgkins|     Female| 41458|             Support|                                 43614|\n",
            "| 37|       Ode|       Latch|       Male| 29168|             Support|                                 43614|\n",
            "| 61|  Crichton|     Aldwich|       Male| 28227|             Support|                                 43614|\n",
            "| 63|  Giovanna|     Mollitt|     Female| 48538|            Training|                                 48538|\n",
            "| 94|    Trixie|       Laing|     Female| 40720|            Training|                                 48538|\n",
            "| 96|    Ginnie|      Grogan|     Female| 39587|            Training|                                 48538|\n",
            "|  1| Marmaduke|    Akenhead|       Male| 36478|            Training|                                 48538|\n",
            "| 49|      Cody|     Dollman|       Male| 35620|            Training|                                 48538|\n",
            "| 47|    Robbyn|      Connah|     Female| 34844|            Training|                                 48538|\n",
            "|  5|  Brandice|      Boyles|     Female| 28720|            Training|                                 48538|\n",
            "| 89|      Fawn|    Pagelsen|     Female| 27703|            Training|                                 48538|\n",
            "| 98| Cristobal|    Zuanazzi|       Male| 27660|            Training|                                 48538|\n",
            "| 64|   Obadiah|       Deere|       Male| 26792|            Training|                                 48538|\n",
            "| 39|   Nicolle|       Heyns|     Female| 24865|            Training|                                 48538|\n",
            "|  9|   Jeniece|     Burnand|     Female| 22241|            Training|                                 48538|\n",
            "+---+----------+------------+-----------+------+--------------------+--------------------------------------+\n",
            "\n"
          ]
        }
      ]
    }
  ],
  "metadata": {
    "colab": {
      "name": "Welcome To Colab",
      "provenance": [],
      "include_colab_link": true
    },
    "kernelspec": {
      "display_name": "Python 3",
      "name": "python3"
    }
  },
  "nbformat": 4,
  "nbformat_minor": 0
}